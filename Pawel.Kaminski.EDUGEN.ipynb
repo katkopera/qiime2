{
 "cells": [
  {
   "cell_type": "markdown",
   "metadata": {},
   "source": [
    "# \"Moving Pictures\" tutorial\n",
    "\n",
    "**_note:_ This guide assumes you have QIIME 2 installed (e.g. using this [procedure](https://docs.qiime2.org/2019.10/install/native/)). To execute the script properly, open this notebook in a Jupyter Notebook from within a conda QIIME 2 environment.**\n",
    "\n",
    "**_note:_ This tutorial is an adaptation of the same tutorial that may be found on the [official QIIME 2 docs website](https://docs.qiime2.org/2019.10/tutorials/moving-pictures/). The original tutorial uses the QIIME 2 CLI interface.**\n",
    "\n",
    "Instead of CLI interface, this tutorial uses [Artifact API](https://docs.qiime2.org/2019.10/interfaces/artifact-api/) - a Python 3 application programmer interface (API) for QIIME 2. The Artifact API supports interactive computing with QIIME 2 using the Python 3 programming language. The API is automatically generated, and its availability depends on which QIIME 2 plugins are currently installed. It has been optimized for use in the Jupyter Notebook. The Artifact API is a part of the QIIME 2 framework; no additional software needs to be installed to use it. \n",
    "\n",
    "**The notebook was tested using the `2019.10` version of QIIME 2.**\n",
    "\n",
    "## Before you start: close this notebook and Jupyter session, and run `jupyter serverextension enable --py qiime2 --sys-prefix`. Then, restart this notebook.\n",
    "\n",
    "In this tutorial you’ll use QIIME 2 to perform an analysis of human microbiome samples from two individuals at four body sites at five timepoints, the first of which immediately followed antibiotic usage. A study based on these samples was originally published in [Caporaso et al. (2011)](https://www.ncbi.nlm.nih.gov/pubmed/21624126). The data used in this tutorial were sequenced on an Illumina HiSeq using the [Earth Microbiome Project](http://earthmicrobiome.org/) hypervariable region 4 (V4) 16S rRNA sequencing protocol.\n",
    "\n",
    "> Question 1: Why is 16S rRNA marker gene sequencing so often used to study the microbiome? What other marker genes are commonly used to identify Bacteria and Archaea? What marker genes do we use to identify other microbial kingdoms (e.g. Fungi and microbial Eukaryotes)?\n",
    "\n",
    "> Answer 1: Sekwencja genu kodującego podjednostkę 16S rRNA jest dobrze konserwowana wewnątrz gatunku, a zmienna (ewolucyjnie?) pomiędzy gatunkami. Jest też stosunkowo krótka. Popularność wynika również z czynników historycznych, istnieje wiele baz katalogujących 16s. U eukariotów można zamiast 16S badać 18S.\n",
    "\n",
    "Let's import all necessary modules"
   ]
  },
  {
   "cell_type": "code",
   "execution_count": 1,
   "metadata": {},
   "outputs": [],
   "source": [
    "%matplotlib inline\n",
    "import qiime2\n",
    "from tempfile import mkdtemp\n",
    "from qiime2.plugins import demux, dada2, deblur, quality_filter, \\\n",
    "                           metadata, feature_table, alignment, \\\n",
    "                           phylogeny, diversity, emperor, feature_classifier, \\\n",
    "                           taxa, composition, fragment_insertion"
   ]
  },
  {
   "cell_type": "markdown",
   "metadata": {},
   "source": [
    "Before beginning this tutorial, create a new directory and change to that directory. The following two commands should do it for you. \n",
    "\n",
    "#### make sure to change the path in workdir"
   ]
  },
  {
   "cell_type": "code",
   "execution_count": 2,
   "metadata": {},
   "outputs": [],
   "source": [
    "workdir='./'"
   ]
  },
  {
   "cell_type": "code",
   "execution_count": 3,
   "metadata": {},
   "outputs": [],
   "source": [
    "!mkdir -p $workdir\n",
    "!cd $workdir"
   ]
  },
  {
   "cell_type": "markdown",
   "metadata": {},
   "source": [
    "## Sample metadata\n",
    "\n",
    "Before starting the analysis, explore the sample metadata to familiarize yourself with the samples used in this study. The [sample metadata](https://docs.google.com/spreadsheets/d/16oomVnULW-uesehNZc_mKIDTnuRoTiun0CpzSFZagvo/edit#gid=0) is available as a Google Sheet. You can download this file as tab-separated text by selecting `File` > `Download as` > `Tab-separated values`. Alternatively, the following command will download the sample metadata as tab-separated text and save it in the file `sample-metadata.tsv`. This `sample-metadata.tsv` file is used throughout the rest of the tutorial."
   ]
  },
  {
   "cell_type": "code",
   "execution_count": 3,
   "metadata": {},
   "outputs": [
    {
     "name": "stdout",
     "output_type": "stream",
     "text": [
      "--2020-02-20 23:08:55--  https://data.qiime2.org/2019.10/tutorials/moving-pictures/sample_metadata.tsv\n",
      "Translacja data.qiime2.org (data.qiime2.org)... 52.35.38.247\n",
      "Łączenie się z data.qiime2.org (data.qiime2.org)|52.35.38.247|:443... połączono.\n",
      "Żądanie HTTP wysłano, oczekiwanie na odpowiedź... 302 FOUND\n",
      "Lokalizacja: https://docs.google.com/spreadsheets/d/16oomVnULW-uesehNZc_mKIDTnuRoTiun0CpzSFZagvo/export?gid=0&format=tsv [podążanie]\n",
      "--2020-02-20 23:08:56--  https://docs.google.com/spreadsheets/d/16oomVnULW-uesehNZc_mKIDTnuRoTiun0CpzSFZagvo/export?gid=0&format=tsv\n",
      "Translacja docs.google.com (docs.google.com)... 172.217.16.46\n",
      "Łączenie się z docs.google.com (docs.google.com)|172.217.16.46|:443... połączono.\n",
      "Żądanie HTTP wysłano, oczekiwanie na odpowiedź... 200 OK\n",
      "Długość: nieznana [text/tab-separated-values]\n",
      "Zapis do: `sample-metadata.tsv'\n",
      "\n",
      "sample-metadata.tsv     [ <=>                ]   2,04K  --.-KB/s     w 0s      \n",
      "\n",
      "2020-02-20 23:08:56 (14,3 MB/s) - zapisano `sample-metadata.tsv' [2094]\n",
      "\n"
     ]
    }
   ],
   "source": [
    "!wget -O \"sample-metadata.tsv\" \"https://data.qiime2.org/2019.10/tutorials/moving-pictures/sample_metadata.tsv\""
   ]
  },
  {
   "cell_type": "markdown",
   "metadata": {},
   "source": [
    "## Obtaining and importing data\n",
    "\n",
    "Download the sequence reads that we’ll use in this analysis. In this tutorial we’ll work with a small subset of the complete sequence data so that the commands will run quickly.\n",
    "\n",
    "_Make new directory for the archives to be downloaded._"
   ]
  },
  {
   "cell_type": "code",
   "execution_count": 5,
   "metadata": {},
   "outputs": [],
   "source": [
    "!mkdir -p $workdir/emp-single-end-sequences"
   ]
  },
  {
   "cell_type": "markdown",
   "metadata": {},
   "source": [
    "Download `barcodes.fastq.gz` archive containing barcode sequances identifying individual samples."
   ]
  },
  {
   "cell_type": "code",
   "execution_count": 6,
   "metadata": {},
   "outputs": [
    {
     "name": "stdout",
     "output_type": "stream",
     "text": [
      "--2020-02-20 23:10:45--  https://data.qiime2.org/2019.10/tutorials/moving-pictures/emp-single-end-sequences/barcodes.fastq.gz\n",
      "Translacja data.qiime2.org (data.qiime2.org)... 52.35.38.247\n",
      "Łączenie się z data.qiime2.org (data.qiime2.org)|52.35.38.247|:443... połączono.\n",
      "Żądanie HTTP wysłano, oczekiwanie na odpowiedź... 302 FOUND\n",
      "Lokalizacja: https://s3-us-west-2.amazonaws.com/qiime2-data/2019.10/tutorials/moving-pictures/emp-single-end-sequences/barcodes.fastq.gz [podążanie]\n",
      "--2020-02-20 23:10:46--  https://s3-us-west-2.amazonaws.com/qiime2-data/2019.10/tutorials/moving-pictures/emp-single-end-sequences/barcodes.fastq.gz\n",
      "Translacja s3-us-west-2.amazonaws.com (s3-us-west-2.amazonaws.com)... 52.218.247.80\n",
      "Łączenie się z s3-us-west-2.amazonaws.com (s3-us-west-2.amazonaws.com)|52.218.247.80|:443... połączono.\n",
      "Żądanie HTTP wysłano, oczekiwanie na odpowiedź... 200 OK\n",
      "Długość: 3783785 (3,6M) [application/x-gzip]\n",
      "Zapis do: `.//emp-single-end-sequences/barcodes.fastq.gz'\n",
      "\n",
      ".//emp-single-end-s 100%[===================>]   3,61M   617KB/s     w 6,3s    \n",
      "\n",
      "2020-02-20 23:10:53 (584 KB/s) - zapisano `.//emp-single-end-sequences/barcodes.fastq.gz' [3783785/3783785]\n",
      "\n"
     ]
    }
   ],
   "source": [
    "!wget -O $workdir/\"emp-single-end-sequences/barcodes.fastq.gz\" \"https://data.qiime2.org/2019.10/tutorials/moving-pictures/emp-single-end-sequences/barcodes.fastq.gz\""
   ]
  },
  {
   "cell_type": "markdown",
   "metadata": {},
   "source": [
    "Download `sequences.fastq.gz` archive containing all the reads sequanced."
   ]
  },
  {
   "cell_type": "code",
   "execution_count": 7,
   "metadata": {},
   "outputs": [
    {
     "name": "stdout",
     "output_type": "stream",
     "text": [
      "--2020-02-20 23:11:03--  https://data.qiime2.org/2019.10/tutorials/moving-pictures/emp-single-end-sequences/sequences.fastq.gz\n",
      "Translacja data.qiime2.org (data.qiime2.org)... 52.35.38.247\n",
      "Łączenie się z data.qiime2.org (data.qiime2.org)|52.35.38.247|:443... połączono.\n",
      "Żądanie HTTP wysłano, oczekiwanie na odpowiedź... 302 FOUND\n",
      "Lokalizacja: https://s3-us-west-2.amazonaws.com/qiime2-data/2019.10/tutorials/moving-pictures/emp-single-end-sequences/sequences.fastq.gz [podążanie]\n",
      "--2020-02-20 23:11:03--  https://s3-us-west-2.amazonaws.com/qiime2-data/2019.10/tutorials/moving-pictures/emp-single-end-sequences/sequences.fastq.gz\n",
      "Translacja s3-us-west-2.amazonaws.com (s3-us-west-2.amazonaws.com)... 52.218.222.0\n",
      "Łączenie się z s3-us-west-2.amazonaws.com (s3-us-west-2.amazonaws.com)|52.218.222.0|:443... połączono.\n",
      "Żądanie HTTP wysłano, oczekiwanie na odpowiedź... 200 OK\n",
      "Długość: 25303756 (24M) [binary/octet-stream]\n",
      "Zapis do: `.//emp-single-end-sequences/sequences.fastq.gz'\n",
      "\n",
      ".//emp-single-end-s 100%[===================>]  24,13M   917KB/s     w 24s     \n",
      "\n",
      "2020-02-20 23:11:28 (1023 KB/s) - zapisano `.//emp-single-end-sequences/sequences.fastq.gz' [25303756/25303756]\n",
      "\n"
     ]
    }
   ],
   "source": [
    "!wget -O $workdir/\"emp-single-end-sequences/sequences.fastq.gz\" \"https://data.qiime2.org/2019.10/tutorials/moving-pictures/emp-single-end-sequences/sequences.fastq.gz\""
   ]
  },
  {
   "cell_type": "markdown",
   "metadata": {},
   "source": [
    "### Import data as a qiime2 artifact\n",
    "\n",
    "All data that is used as input to QIIME 2 is in form of QIIME 2 artifacts, which contain information about the type of data and the source of the data. So, the first thing we need to do is import these sequence data files into a QIIME 2 artifact.\n",
    "\n",
    "The semantic type of this QIIME 2 artifact is `EMPSingleEndSequences`. `EMPSingleEndSequences` QIIME 2 artifacts contain sequences that are multiplexed, meaning that the sequences have not yet been assigned to samples (hence the inclusion of both `sequences.fastq.gz` and `barcodes.fastq.gz` files, where the `barcodes.fastq.gz` contains the barcode read associated with each sequence in `sequences.fastq.gz.`) \n"
   ]
  },
  {
   "cell_type": "code",
   "execution_count": 3,
   "metadata": {
    "scrolled": true
   },
   "outputs": [],
   "source": [
    "single_end_sequences = qiime2.Artifact.import_data('EMPSingleEndSequences', workdir+'/emp-single-end-sequences/')"
   ]
  },
  {
   "cell_type": "markdown",
   "metadata": {},
   "source": [
    "### Read metadata into `qiime2.Metadata` object"
   ]
  },
  {
   "cell_type": "code",
   "execution_count": 4,
   "metadata": {},
   "outputs": [],
   "source": [
    "sample_metadata = qiime2.Metadata.load(workdir+'/sample-metadata.tsv')"
   ]
  },
  {
   "cell_type": "markdown",
   "metadata": {},
   "source": [
    "## Demultiplexing sequences \n",
    "\n",
    "> Question 2: What is demultiplexing and why do we need to demultiplex? \n",
    "\n",
    "> Answer 2: Demultiplexing sekwencji jest konieczny aby wiedzieć, która sekwencja należy do której próbki. Proces ten rozpoznaje barcody przyłączone do sekwencji przy przygotowywaniu bibliotek do sekwencjonowania. Każda próbka ma inny barcode.\n",
    "\n",
    "To demultiplex sequences we need to know which barcode sequence is associated with each sample. This information is contained in the [sample metadata](https://docs.google.com/spreadsheets/d/16oomVnULW-uesehNZc_mKIDTnuRoTiun0CpzSFZagvo/edit#gid=0) file. You can run the following commands to demultiplex the sequences (the `demux.methods.emp-single` function refers to the fact that these sequences are barcoded according to the [Earth Microbiome Project](http://earthmicrobiome.or-g/) protocol, and are single-end reads). The `demux.qza` QIIME 2 artifact will contain the demultiplexed sequences."
   ]
  },
  {
   "cell_type": "code",
   "execution_count": 5,
   "metadata": {},
   "outputs": [],
   "source": [
    "demux_sequences = demux.methods.emp_single(single_end_sequences,\n",
    "                                           sample_metadata.get_column('barcode-sequence'))"
   ]
  },
  {
   "cell_type": "markdown",
   "metadata": {},
   "source": [
    "After demultiplexing, it’s useful to generate a summary of the demultiplexing results. This allows you to determine how many sequences were obtained per sample, and also to get a summary of the distribution of sequence qualities at each position in your sequence data."
   ]
  },
  {
   "cell_type": "code",
   "execution_count": 6,
   "metadata": {},
   "outputs": [
    {
     "data": {
      "text/html": [
       "<div><img onload=\"(function(div, url){\n",
       "if (typeof require !== 'undefined') {\n",
       "    var baseURL = require.toUrl('').split('/').slice(0, -2).join('/');\n",
       "} else {\n",
       "    var baseURL = JSON.parse(\n",
       "        document.getElementById('jupyter-config-data').innerHTML\n",
       "    ).baseUrl.slice(0, -1);\n",
       "}\n",
       "url = baseURL + url;\n",
       "fetch(url).then(function(res) {\n",
       "    if (res.status === 404) {\n",
       "        div.innerHTML = 'Install QIIME 2 Jupyter extension with:<br />' +\n",
       "                        '<code>jupyter serverextension enable --py qiime2' +\n",
       "                        ' --sys-prefix</code><br />then restart your server.' +\n",
       "                        '<br /><br />(Interactive output not available on ' +\n",
       "                        'static notebook viewer services like nbviewer.)';\n",
       "    } else if (res.status === 409) {\n",
       "        div.innerHTML = 'Visualization no longer in scope. Re-run this cell' +\n",
       "                        ' to see the visualization.';\n",
       "    } else if (res.ok) {\n",
       "        url = res.url;\n",
       "        div.innerHTML = '<iframe src=\\'' + url + '\\' style=\\'' +\n",
       "                        'width: 100%; height: 700px; border: 0;\\'>' +\n",
       "                        '</iframe><hr />Open in a: <a href=\\'' + url + '\\'' +\n",
       "                        ' target=\\'_blank\\'>new window</a>'\n",
       "    } else {\n",
       "        div.innerHTML = 'Something has gone wrong. Check notebook server for' +\n",
       "                        ' errors.';\n",
       "    }\n",
       "});\n",
       "})(this.parentElement, '/qiime2/redirect?location=/tmp/qiime2-archive-opu6z8qq')\" src=\"data:image/gif;base64,R0lGODlhAQABAIAAAP///wAAACH5BAEAAAAALAAAAAABAAEAAAICRAEAOw==\" /></div>"
      ],
      "text/plain": [
       "<visualization: Visualization uuid: b349e70a-d738-418d-bfdf-dd24f9ffc990>"
      ]
     },
     "execution_count": 6,
     "metadata": {},
     "output_type": "execute_result"
    },
    {
     "data": {
      "image/png": "[encoded data removed]",
      "text/plain": [
       "<Figure size 432x288 with 1 Axes>"
      ]
     },
     "metadata": {
      "needs_background": "light"
     },
     "output_type": "display_data"
    }
   ],
   "source": [
    "demux_summary = demux.visualizers.summarize(demux_sequences.per_sample_sequences)\n",
    "demux_summary.visualization"
   ]
  },
  {
   "cell_type": "markdown",
   "metadata": {},
   "source": [
    "\n",
    "## Sequence quality control and feature table construction\n",
    "\n",
    "QIIME 2 plugins are available for several quality control methods, including DADA2, Deblur, and basic quality-score-based filtering. In this tutorial we present this step using [DADA2](https://www.ncbi.nlm.nih.gov/pubmed/27214047) and [Deblur](https://msystems.asm.org/content/2/2/e00191-16). These steps are interchangeable, so you can use whichever of these you prefer. The result of both of these methods will be a `FeatureTable[Frequency]` QIIME 2 artifact, which contains counts (frequencies) of each unique sequence in each sample in the dataset, and a `FeatureData[Sequence]` QIIME 2 artifact, which maps feature identifiers in the `FeatureTable` to the sequences they represent.\n",
    "\n",
    "## Option 1: DADA2\n",
    "\n",
    "[DADA2](https://www.ncbi.nlm.nih.gov/pubmed/27214047) is a pipeline for detecting and correcting (where possible) Illumina amplicon sequence data. As implemented in the `q2-dada2` plugin, this quality control process will additionally filter any phiX reads (commonly present in marker gene Illumina sequence data) that are identified in the sequencing data, and will filter chimeric sequences.\n",
    "\n",
    "The `dada2.methods.denoise_single` method requires two parameters that are used in quality filtering: `trim_left`, which trims off the first `m` bases of each sequence, and `trunc_len` which truncates each sequence at position `n`. This allows the user to remove low quality regions of the sequences. To determine what values to pass for these two parameters, you should review the Interactive Quality Plot tab in the `demux.qzv` file that was generated by qiime demux summarize above.\n",
    "\n",
    "In the `demux.qzv` quality plots, we see that the quality of the initial bases seems to be high, so we won’t trim any bases from the beginning of the sequences. The quality seems to drop off around position 120, so we’ll truncate our sequences at 120 bases. This next command may take up to 10 minutes to run, and is the slowest step in this tutorial.\n"
   ]
  },
  {
   "cell_type": "code",
   "execution_count": 7,
   "metadata": {},
   "outputs": [
    {
     "name": "stdout",
     "output_type": "stream",
     "text": [
      "Running external command line application(s). This may print messages to stdout and/or stderr.\n",
      "The command(s) being run are below. These commands cannot be manually re-run as they will depend on temporary files that no longer exist.\n",
      "\n",
      "Command: run_dada_single.R /tmp/qiime2-archive-ikowun8l/09669ac5-11fb-40a8-a135-cff4fdfb9a59/data /tmp/tmp1lhqeq3p/output.tsv.biom /tmp/tmp1lhqeq3p/track.tsv /tmp/tmp1lhqeq3p 120 0 2.0 2 Inf consensus 1.0 1 1000000 NULL 16\n",
      "\n"
     ]
    }
   ],
   "source": [
    "denoised_sequences = dada2.methods.denoise_single(demux_sequences.per_sample_sequences, trim_left = 0, \\\n",
    "trunc_len = 120)"
   ]
  },
  {
   "cell_type": "code",
   "execution_count": 8,
   "metadata": {
    "scrolled": true
   },
   "outputs": [
    {
     "data": {
      "text/html": [
       "<div><img onload=\"(function(div, url){\n",
       "if (typeof require !== 'undefined') {\n",
       "    var baseURL = require.toUrl('').split('/').slice(0, -2).join('/');\n",
       "} else {\n",
       "    var baseURL = JSON.parse(\n",
       "        document.getElementById('jupyter-config-data').innerHTML\n",
       "    ).baseUrl.slice(0, -1);\n",
       "}\n",
       "url = baseURL + url;\n",
       "fetch(url).then(function(res) {\n",
       "    if (res.status === 404) {\n",
       "        div.innerHTML = 'Install QIIME 2 Jupyter extension with:<br />' +\n",
       "                        '<code>jupyter serverextension enable --py qiime2' +\n",
       "                        ' --sys-prefix</code><br />then restart your server.' +\n",
       "                        '<br /><br />(Interactive output not available on ' +\n",
       "                        'static notebook viewer services like nbviewer.)';\n",
       "    } else if (res.status === 409) {\n",
       "        div.innerHTML = 'Visualization no longer in scope. Re-run this cell' +\n",
       "                        ' to see the visualization.';\n",
       "    } else if (res.ok) {\n",
       "        url = res.url;\n",
       "        div.innerHTML = '<iframe src=\\'' + url + '\\' style=\\'' +\n",
       "                        'width: 100%; height: 700px; border: 0;\\'>' +\n",
       "                        '</iframe><hr />Open in a: <a href=\\'' + url + '\\'' +\n",
       "                        ' target=\\'_blank\\'>new window</a>'\n",
       "    } else {\n",
       "        div.innerHTML = 'Something has gone wrong. Check notebook server for' +\n",
       "                        ' errors.';\n",
       "    }\n",
       "});\n",
       "})(this.parentElement, '/qiime2/redirect?location=/tmp/qiime2-archive-hgt2q4r0')\" src=\"data:image/gif;base64,R0lGODlhAQABAIAAAP///wAAACH5BAEAAAAALAAAAAABAAEAAAICRAEAOw==\" /></div>"
      ],
      "text/plain": [
       "<visualization: Visualization uuid: de55ab76-0d69-42a6-9b62-08b3d75132e5>"
      ]
     },
     "execution_count": 8,
     "metadata": {},
     "output_type": "execute_result"
    }
   ],
   "source": [
    "denoise_stats = metadata.visualizers.tabulate(denoised_sequences.denoising_stats.view(qiime2.Metadata))\n",
    "denoise_stats.visualization"
   ]
  },
  {
   "cell_type": "markdown",
   "metadata": {},
   "source": [
    "**If you want to stay with Option 1, go straight to FeatureTable and FeatureData summaries. If you want to try Option 2, denoising sequances with Deblur, proceed to the next cell.**"
   ]
  },
  {
   "cell_type": "markdown",
   "metadata": {},
   "source": [
    "## Option 2: Deblur\n",
    "\n",
    "Deblur uses sequence error profiles to associate erroneous sequence reads with the true biological sequence from which they are derived, resulting in high quality sequence variant data. This is applied in two steps. First, an initial quality filtering process based on quality scores is applied. This method is an implementation of the quality filtering approach described by [Bokulich et al. (2013)](https://www.nature.com/articles/nmeth.2276)."
   ]
  },
  {
   "cell_type": "code",
   "execution_count": 9,
   "metadata": {},
   "outputs": [
    {
     "name": "stderr",
     "output_type": "stream",
     "text": [
      "/home/kamyk/Work/Software/MiniConda/envs/qiime2-2019.10/lib/python3.6/site-packages/q2_quality_filter/_filter.py:88: YAMLLoadWarning: calling yaml.load() without Loader=... is deprecated, as the default Loader is unsafe. Please read https://msg.pyyaml.org/load for full details.\n",
      "  phred_offset = yaml.load(metadata_view)['phred-offset']\n"
     ]
    }
   ],
   "source": [
    "demux_filter_stats = quality_filter.methods.q_score(demux_sequences.per_sample_sequences)"
   ]
  },
  {
   "cell_type": "markdown",
   "metadata": {},
   "source": [
    "Next, the Deblur workflow is applied using the `deblur.methods.denoise-16S method`. This method requires one parameter that is used in quality filtering, `trim_length = n` which truncates the sequences at position `n`. In general, the Deblur developers recommend setting this value to a length where the median quality score begins to drop too low. On these data, the quality plots (prior to quality filtering) suggest a reasonable choice is in the 115 to 130 sequence position range. This is a subjective assessment. One situation where you might deviate from that recommendation is when performing a meta-analysis across multiple sequencing runs. In this type of meta-analysis, it is critical that the read lengths be the same for all of the sequencing runs being compared to avoid introducing a study-specific bias. Since 120 is reasonable given the quality plots, we’ll pass `trim_length` parameter the value of 120. This next command may take up to 10 minutes to run."
   ]
  },
  {
   "cell_type": "code",
   "execution_count": 10,
   "metadata": {},
   "outputs": [],
   "source": [
    "denoised_sequences = deblur.methods.denoise_16S(demux_sequences.per_sample_sequences,\n",
    "                                             trim_length=120,\n",
    "                                              sample_stats=True)"
   ]
  },
  {
   "cell_type": "markdown",
   "metadata": {},
   "source": [
    "The two commands used in this section generate QIIME 2 artifacts containing summary statistics. To view those summary statistics, you can visualize them using `metadata.visualizers.tabulate` and `deblur.visulaizers.visualize-stats`, respectively.\n",
    "> Question 3: Look at generated filtering stats after demultiplexing. Pay attention to columns names. What is the meaning of `reads-too-short-after-truncation` and `reads-exceeding-maximum-ambiguous-bases` columns in the context of filtering?\n",
    "\n",
    "> Answer 3: Przycinanie sekwencji w algorytmie Deblur jest przeprowadzane w oparciu o jakość odczytu danego nukleotydu (PHRED Score). `reads-too-short-after-truncation` pokazuje ile sekwencji jest za krótkich po tej operacji przycinania. Z kolei `reads-exceeding-maximum-ambiguous-bases` mówi o ilości nieoznaczonych nukleotydów (występujących jako N) w odczycie. Kolumna ta podaje ilość sekwencji odrzuconych z powodu występowania odczytów (N).\n",
    "\n",
    "> Question 4: Look at statistics visulization after appling denoising using Deblur. How do you understand `reads-missed-reference`, `reads-hit-artifact`, `reads-derep`, `reads-chimeric` in context of methodology (sequancing errors, using reference data bases)?\n",
    "\n",
    "> Answer 4: `reads-missed-reference` mówi o ilości odczytów, które nie pasują do filtra pozytywnego - bazy sekwencii, które mogą być rzeczywistymi sekwencjami np. bakterii (np. 16S). I na odwrót: `reads-hit-artifact` mówi ile sekwencji pasuje do filtra negatywnego i może być np. adapterem lub fragmentem genomu PhiX. `reads-derep` mówi o ilości sekwencji, po zastosowaniu w ramach Deblur algorytmu dereplikacji. I tak `unique-reads-derep` mówi o ilości sekwencji unikalnych a `reads-derep` o ilości sekwencji, po zastosowaniu filtra długości. I na koniec, `reads-chimeric` to ilość odczytów mogących być połączeniem dwóch rzezczywiście występujących w naturze sekwencji. Sekwencje takie powstają często w czasie amplifikacji PCR."
   ]
  },
  {
   "cell_type": "code",
   "execution_count": 11,
   "metadata": {
    "scrolled": true
   },
   "outputs": [
    {
     "data": {
      "text/html": [
       "<div><img onload=\"(function(div, url){\n",
       "if (typeof require !== 'undefined') {\n",
       "    var baseURL = require.toUrl('').split('/').slice(0, -2).join('/');\n",
       "} else {\n",
       "    var baseURL = JSON.parse(\n",
       "        document.getElementById('jupyter-config-data').innerHTML\n",
       "    ).baseUrl.slice(0, -1);\n",
       "}\n",
       "url = baseURL + url;\n",
       "fetch(url).then(function(res) {\n",
       "    if (res.status === 404) {\n",
       "        div.innerHTML = 'Install QIIME 2 Jupyter extension with:<br />' +\n",
       "                        '<code>jupyter serverextension enable --py qiime2' +\n",
       "                        ' --sys-prefix</code><br />then restart your server.' +\n",
       "                        '<br /><br />(Interactive output not available on ' +\n",
       "                        'static notebook viewer services like nbviewer.)';\n",
       "    } else if (res.status === 409) {\n",
       "        div.innerHTML = 'Visualization no longer in scope. Re-run this cell' +\n",
       "                        ' to see the visualization.';\n",
       "    } else if (res.ok) {\n",
       "        url = res.url;\n",
       "        div.innerHTML = '<iframe src=\\'' + url + '\\' style=\\'' +\n",
       "                        'width: 100%; height: 700px; border: 0;\\'>' +\n",
       "                        '</iframe><hr />Open in a: <a href=\\'' + url + '\\'' +\n",
       "                        ' target=\\'_blank\\'>new window</a>'\n",
       "    } else {\n",
       "        div.innerHTML = 'Something has gone wrong. Check notebook server for' +\n",
       "                        ' errors.';\n",
       "    }\n",
       "});\n",
       "})(this.parentElement, '/qiime2/redirect?location=/tmp/qiime2-archive-uw2ngdb8')\" src=\"data:image/gif;base64,R0lGODlhAQABAIAAAP///wAAACH5BAEAAAAALAAAAAABAAEAAAICRAEAOw==\" /></div>"
      ],
      "text/plain": [
       "<visualization: Visualization uuid: bde7a65c-f688-464b-9e10-ddd881daeaa1>"
      ]
     },
     "execution_count": 11,
     "metadata": {},
     "output_type": "execute_result"
    }
   ],
   "source": [
    "filter_stats = metadata.visualizers.tabulate(demux_filter_stats.filter_stats.view(qiime2.Metadata))\n",
    "filter_stats.visualization"
   ]
  },
  {
   "cell_type": "code",
   "execution_count": 12,
   "metadata": {},
   "outputs": [
    {
     "data": {
      "text/html": [
       "<div><img onload=\"(function(div, url){\n",
       "if (typeof require !== 'undefined') {\n",
       "    var baseURL = require.toUrl('').split('/').slice(0, -2).join('/');\n",
       "} else {\n",
       "    var baseURL = JSON.parse(\n",
       "        document.getElementById('jupyter-config-data').innerHTML\n",
       "    ).baseUrl.slice(0, -1);\n",
       "}\n",
       "url = baseURL + url;\n",
       "fetch(url).then(function(res) {\n",
       "    if (res.status === 404) {\n",
       "        div.innerHTML = 'Install QIIME 2 Jupyter extension with:<br />' +\n",
       "                        '<code>jupyter serverextension enable --py qiime2' +\n",
       "                        ' --sys-prefix</code><br />then restart your server.' +\n",
       "                        '<br /><br />(Interactive output not available on ' +\n",
       "                        'static notebook viewer services like nbviewer.)';\n",
       "    } else if (res.status === 409) {\n",
       "        div.innerHTML = 'Visualization no longer in scope. Re-run this cell' +\n",
       "                        ' to see the visualization.';\n",
       "    } else if (res.ok) {\n",
       "        url = res.url;\n",
       "        div.innerHTML = '<iframe src=\\'' + url + '\\' style=\\'' +\n",
       "                        'width: 100%; height: 700px; border: 0;\\'>' +\n",
       "                        '</iframe><hr />Open in a: <a href=\\'' + url + '\\'' +\n",
       "                        ' target=\\'_blank\\'>new window</a>'\n",
       "    } else {\n",
       "        div.innerHTML = 'Something has gone wrong. Check notebook server for' +\n",
       "                        ' errors.';\n",
       "    }\n",
       "});\n",
       "})(this.parentElement, '/qiime2/redirect?location=/tmp/qiime2-archive-cqjmoz2_')\" src=\"data:image/gif;base64,R0lGODlhAQABAIAAAP///wAAACH5BAEAAAAALAAAAAABAAEAAAICRAEAOw==\" /></div>"
      ],
      "text/plain": [
       "<visualization: Visualization uuid: 46eba9aa-da4f-4349-8876-73b16bcad6bc>"
      ]
     },
     "execution_count": 12,
     "metadata": {},
     "output_type": "execute_result"
    }
   ],
   "source": [
    "denoise_stats = deblur.visualizers.visualize_stats(denoised_sequences.stats)\n",
    "denoise_stats.visualization"
   ]
  },
  {
   "cell_type": "markdown",
   "metadata": {},
   "source": [
    "\n",
    "## FeatureTable and FeatureData summaries\n",
    "\n",
    "After the quality filtering step completes, you’ll want to explore the resulting data. You can do this using the following two commands, which will create visual summaries of the data. The `feature_table.visulizers.summarize` function will give you information on how many sequences are associated with each sample and with each feature, histograms of those distributions, and some related summary statistics. The `feature_table.visulizers.tabulate_seqs` command will provide a mapping of feature IDs to sequences, and provide links to easily BLAST each sequence against the NCBI nt database. The latter visualization will be very useful later in the tutorial, when you want to learn more about specific features that are important in the data set.\n"
   ]
  },
  {
   "cell_type": "code",
   "execution_count": 13,
   "metadata": {},
   "outputs": [
    {
     "name": "stderr",
     "output_type": "stream",
     "text": [
      "/home/kamyk/Work/Software/MiniConda/envs/qiime2-2019.10/lib/python3.6/site-packages/q2_feature_table/_summarize/_visualizer.py:122: FutureWarning: The signature of `Series.to_csv` was aligned to that of `DataFrame.to_csv`, and argument 'header' will change its default value from False to True: please pass an explicit value to suppress this warning.\n",
      "  os.path.join(output_dir, 'sample-frequency-detail.csv'))\n",
      "/home/kamyk/Work/Software/MiniConda/envs/qiime2-2019.10/lib/python3.6/site-packages/q2_feature_table/_summarize/_visualizer.py:124: FutureWarning: The signature of `Series.to_csv` was aligned to that of `DataFrame.to_csv`, and argument 'header' will change its default value from False to True: please pass an explicit value to suppress this warning.\n",
      "  os.path.join(output_dir, 'feature-frequency-detail.csv'))\n"
     ]
    },
    {
     "data": {
      "text/html": [
       "<div><img onload=\"(function(div, url){\n",
       "if (typeof require !== 'undefined') {\n",
       "    var baseURL = require.toUrl('').split('/').slice(0, -2).join('/');\n",
       "} else {\n",
       "    var baseURL = JSON.parse(\n",
       "        document.getElementById('jupyter-config-data').innerHTML\n",
       "    ).baseUrl.slice(0, -1);\n",
       "}\n",
       "url = baseURL + url;\n",
       "fetch(url).then(function(res) {\n",
       "    if (res.status === 404) {\n",
       "        div.innerHTML = 'Install QIIME 2 Jupyter extension with:<br />' +\n",
       "                        '<code>jupyter serverextension enable --py qiime2' +\n",
       "                        ' --sys-prefix</code><br />then restart your server.' +\n",
       "                        '<br /><br />(Interactive output not available on ' +\n",
       "                        'static notebook viewer services like nbviewer.)';\n",
       "    } else if (res.status === 409) {\n",
       "        div.innerHTML = 'Visualization no longer in scope. Re-run this cell' +\n",
       "                        ' to see the visualization.';\n",
       "    } else if (res.ok) {\n",
       "        url = res.url;\n",
       "        div.innerHTML = '<iframe src=\\'' + url + '\\' style=\\'' +\n",
       "                        'width: 100%; height: 700px; border: 0;\\'>' +\n",
       "                        '</iframe><hr />Open in a: <a href=\\'' + url + '\\'' +\n",
       "                        ' target=\\'_blank\\'>new window</a>'\n",
       "    } else {\n",
       "        div.innerHTML = 'Something has gone wrong. Check notebook server for' +\n",
       "                        ' errors.';\n",
       "    }\n",
       "});\n",
       "})(this.parentElement, '/qiime2/redirect?location=/tmp/qiime2-archive-dkz1y6oq')\" src=\"data:image/gif;base64,R0lGODlhAQABAIAAAP///wAAACH5BAEAAAAALAAAAAABAAEAAAICRAEAOw==\" /></div>"
      ],
      "text/plain": [
       "<visualization: Visualization uuid: bd39ce47-5a59-4ce9-b776-03669b6d2190>"
      ]
     },
     "execution_count": 13,
     "metadata": {},
     "output_type": "execute_result"
    },
    {
     "data": {
      "image/png": "[encoded data removed]",
      "text/plain": [
       "<Figure size 432x288 with 1 Axes>"
      ]
     },
     "metadata": {
      "needs_background": "light"
     },
     "output_type": "display_data"
    }
   ],
   "source": [
    "output_viz = feature_table.visualizers.summarize(denoised_sequences.table)\n",
    "output_viz.visualization"
   ]
  },
  {
   "cell_type": "code",
   "execution_count": 14,
   "metadata": {
    "scrolled": true
   },
   "outputs": [
    {
     "data": {
      "text/html": [
       "<div><img onload=\"(function(div, url){\n",
       "if (typeof require !== 'undefined') {\n",
       "    var baseURL = require.toUrl('').split('/').slice(0, -2).join('/');\n",
       "} else {\n",
       "    var baseURL = JSON.parse(\n",
       "        document.getElementById('jupyter-config-data').innerHTML\n",
       "    ).baseUrl.slice(0, -1);\n",
       "}\n",
       "url = baseURL + url;\n",
       "fetch(url).then(function(res) {\n",
       "    if (res.status === 404) {\n",
       "        div.innerHTML = 'Install QIIME 2 Jupyter extension with:<br />' +\n",
       "                        '<code>jupyter serverextension enable --py qiime2' +\n",
       "                        ' --sys-prefix</code><br />then restart your server.' +\n",
       "                        '<br /><br />(Interactive output not available on ' +\n",
       "                        'static notebook viewer services like nbviewer.)';\n",
       "    } else if (res.status === 409) {\n",
       "        div.innerHTML = 'Visualization no longer in scope. Re-run this cell' +\n",
       "                        ' to see the visualization.';\n",
       "    } else if (res.ok) {\n",
       "        url = res.url;\n",
       "        div.innerHTML = '<iframe src=\\'' + url + '\\' style=\\'' +\n",
       "                        'width: 100%; height: 700px; border: 0;\\'>' +\n",
       "                        '</iframe><hr />Open in a: <a href=\\'' + url + '\\'' +\n",
       "                        ' target=\\'_blank\\'>new window</a>'\n",
       "    } else {\n",
       "        div.innerHTML = 'Something has gone wrong. Check notebook server for' +\n",
       "                        ' errors.';\n",
       "    }\n",
       "});\n",
       "})(this.parentElement, '/qiime2/redirect?location=/tmp/qiime2-archive-ierdkniy')\" src=\"data:image/gif;base64,R0lGODlhAQABAIAAAP///wAAACH5BAEAAAAALAAAAAABAAEAAAICRAEAOw==\" /></div>"
      ],
      "text/plain": [
       "<visualization: Visualization uuid: a6a1adeb-49e3-46aa-aab2-5dda0441e824>"
      ]
     },
     "execution_count": 14,
     "metadata": {},
     "output_type": "execute_result"
    }
   ],
   "source": [
    "denoise_feature_table_summary = feature_table.visualizers.tabulate_seqs(denoised_sequences.representative_sequences)\n",
    "denoise_feature_table_summary.visualization"
   ]
  },
  {
   "cell_type": "markdown",
   "metadata": {},
   "source": [
    "\n",
    "## Generate a tree for phylogenetic diversity analyses\n",
    "\n",
    "QIIME supports several phylogenetic diversity metrics, including Faith’s Phylogenetic Diversity and weighted and unweighted UniFrac. In addition to counts of features per sample (i.e., the data in the `FeatureTable[Frequency]` QIIME 2 artifact), these metrics require a rooted phylogenetic tree relating the features to one another. This information will be stored in a `Phylogeny[Rooted]` QIIME 2 artifact. To generate a phylogenetic tree we will use `phylogeny.pipelines.align_to_tree_mafft_fasttree` pipeline.\n",
    "\n",
    "First, the pipeline uses the `mafft` program to perform a multiple sequence alignment of the sequences in our `FeatureData[Sequence]` to create a `FeatureData[AlignedSequence]` QIIME 2 artifact. Next, the pipeline masks (or filters) the alignment to remove positions that are highly variable. These positions are generally considered to add noise to a resulting phylogenetic tree. Following that, the pipeline applies FastTree to generate a phylogenetic tree from the masked alignment. The FastTree program creates an unrooted tree, so in the final step in this section midpoint rooting is applied to place the root of the tree at the midpoint of the longest tip-to-tip distance in the unrooted tree."
   ]
  },
  {
   "cell_type": "code",
   "execution_count": 15,
   "metadata": {},
   "outputs": [
    {
     "name": "stdout",
     "output_type": "stream",
     "text": [
      "Running external command line application. This may print messages to stdout and/or stderr.\n",
      "The command being run is below. This command cannot be manually re-run as it will depend on temporary files that no longer exist.\n",
      "\n",
      "Command: mafft --preservecase --inputorder --thread 1 /tmp/qiime2-archive-xt3jfhej/77eb9040-5f64-4c9f-b1b2-80256f2e0ce6/data/dna-sequences.fasta\n",
      "\n",
      "Running external command line application. This may print messages to stdout and/or stderr.\n",
      "The command being run is below. This command cannot be manually re-run as it will depend on temporary files that no longer exist.\n",
      "\n",
      "Command: FastTree -quote -nt /tmp/qiime2-archive-mpdg5ms7/eaba74ce-654e-40a4-a2d3-ed51a572d112/data/aligned-dna-sequences.fasta\n",
      "\n"
     ]
    }
   ],
   "source": [
    "rooted_tree = phylogeny.pipelines.align_to_tree_mafft_fasttree(denoised_sequences.representative_sequences)"
   ]
  },
  {
   "cell_type": "markdown",
   "metadata": {},
   "source": [
    "## Alpha and beta diversity analysis\n",
    "\n",
    "QIIME 2’s diversity analyses are available through the `q2-diversity` plugin, which supports computing alpha and beta diversity metrics, applying related statistical tests, and generating interactive visualizations. We’ll first apply the `diversity.pipelines.core_metrics_phylogenetic` method, which rarefies a `FeatureTable[Frequency]` to a user-specified depth, computes several alpha and beta diversity metrics, and generates principle coordinates analysis (PCoA) plots using Emperor for each of the beta diversity metrics. The metrics computed by default are:\n",
    "\n",
    "* Alpha diversity\n",
    "    * Shannon’s diversity index (a quantitative measure of community richness)\n",
    "    * Observed OTUs (a qualitative measure of community richness)\n",
    "    * Faith’s Phylogenetic Diversity (a qualitiative measure of community richness that incorporates phylogenetic relationships between the features)\n",
    "    * Evenness (or Pielou’s Evenness; a measure of community evenness)\n",
    "\n",
    "* Beta diversity\n",
    "    * Jaccard distance (a qualitative measure of community dissimilarity)\n",
    "    * Bray-Curtis distance (a quantitative measure of community dissimilarity)\n",
    "    * unweighted UniFrac distance (a qualitative measure of community dissimilarity that incorporates phylogenetic relationships between the features)\n",
    "    * weighted UniFrac distance (a quantitative measure of community dissimilarity that incorporates phylogenetic relationships between the features)\n",
    "\n",
    "An important parameter that needs to be provided to this script is `sampling_depth`, which is the even sampling (i.e. rarefaction) depth. Because most diversity metrics are sensitive to different sampling depths across different samples, this script will randomly subsample the counts from each sample to the value provided for this parameter. For example, if you provide `sampling_depth = 500`, this step will subsample the counts in each sample without replacement so that each sample in the resulting table has a total count of 500. If the total count for any sample(s) are smaller than this value, those samples will be dropped from the diversity analysis. Choosing this value is tricky. We recommend making your choice reviewing the information presented in the table that was created above. Choose a value that is as high as possible (so you retain more sequences per sample) while excluding as few samples as possible. \n",
    "> Question 5: View the above mentioned QIIME 2 artifact containing table, and in particular the _Interactive Sample Detail_ tab in that visualization. What value would you choose to pass for  `sampling_depth`? How many samples will be excluded from your analysis based on this choice? How many total sequences will you be analyzing in the  `core_metrics_phylogenetic ` pipeline?\n",
    "\n",
    "> Answer 5: Posiłkując się opisem z akapitu tuż poniżej wartość `sampling_depth` rozsądnie jest wybrać tak, by jak najmniejsza ilość sekwencij została pominięta. Jeśli wybierzemy długość progową próbkowania na 1103 (liczność sekwencji zliżona do próbki L3S313), wówczas pominiemy tylko 3 próbki i 33090 sekwencji (22.93%) Pozostanie za to do dalszej analizy 30 próbek."
   ]
  },
  {
   "cell_type": "code",
   "execution_count": 16,
   "metadata": {},
   "outputs": [
    {
     "name": "stderr",
     "output_type": "stream",
     "text": [
      "/home/kamyk/Work/Software/MiniConda/envs/qiime2-2019.10/lib/python3.6/site-packages/sklearn/metrics/pairwise.py:1575: DataConversionWarning: Data was converted to boolean for metric jaccard\n",
      "  warnings.warn(msg, DataConversionWarning)\n",
      "/home/kamyk/Work/Software/MiniConda/envs/qiime2-2019.10/lib/python3.6/site-packages/skbio/stats/ordination/_principal_coordinate_analysis.py:152: RuntimeWarning: The result contains negative eigenvalues. Please compare their magnitude with the magnitude of some of the largest positive eigenvalues. If the negative ones are smaller, it's probably safe to ignore them, but if they are large in magnitude, the results won't be useful. See the Notes section for more details. The smallest eigenvalue is -0.013416990001294348 and the largest is 3.5980925622871505.\n",
      "  RuntimeWarning\n",
      "/home/kamyk/Work/Software/MiniConda/envs/qiime2-2019.10/lib/python3.6/site-packages/skbio/stats/ordination/_principal_coordinate_analysis.py:152: RuntimeWarning: The result contains negative eigenvalues. Please compare their magnitude with the magnitude of some of the largest positive eigenvalues. If the negative ones are smaller, it's probably safe to ignore them, but if they are large in magnitude, the results won't be useful. See the Notes section for more details. The smallest eigenvalue is -0.007828822960646787 and the largest is 2.7675240242581465.\n",
      "  RuntimeWarning\n",
      "/home/kamyk/Work/Software/MiniConda/envs/qiime2-2019.10/lib/python3.6/site-packages/skbio/stats/ordination/_principal_coordinate_analysis.py:152: RuntimeWarning: The result contains negative eigenvalues. Please compare their magnitude with the magnitude of some of the largest positive eigenvalues. If the negative ones are smaller, it's probably safe to ignore them, but if they are large in magnitude, the results won't be useful. See the Notes section for more details. The smallest eigenvalue is -0.017053257236720767 and the largest is 1.9625966226841975.\n",
      "  RuntimeWarning\n"
     ]
    }
   ],
   "source": [
    "core_metrics = diversity.pipelines.core_metrics_phylogenetic(table = denoised_sequences.table,\n",
    "                                                             phylogeny = rooted_tree.rooted_tree,\n",
    "                                                             sampling_depth = 1103,\n",
    "                                                             metadata = sample_metadata)"
   ]
  },
  {
   "cell_type": "markdown",
   "metadata": {},
   "source": [
    "Here we set the `sampling_depth` parameter to 1103. This value was chosen based on the number of sequences in the `L3S313` sample because it’s close to the number of sequences in the next few samples that have higher sequence counts, and because it is considerably higher (relatively) than the number of sequences in the samples that have fewer sequences. This will allow us to retain most of our samples. The three samples that have fewer sequences will be dropped from the `core_metrics_phylogenetic` analyses and anything that uses these results. It is worth noting that all three of these samples are “right palm” samples. Losing a disproportionate number of samples from one metadata category is not ideal. However, we are dropping a small enough number of samples here that this felt like the best compromise between total sequences analyzed and number of samples retained.\n",
    "\n",
    "\n",
    "### alpha group significance\n",
    "\n",
    "After computing diversity metrics, we can begin to explore the microbial composition of the samples in the context of the sample metadata. This information is present in the sample metadata file that was downloaded earlier.\n",
    "\n",
    "We’ll first test for associations between categorical metadata columns and alpha diversity data. We’ll do that here for the Faith Phylogenetic Diversity (a measure of community richness) and evenness metrics."
   ]
  },
  {
   "cell_type": "code",
   "execution_count": 17,
   "metadata": {},
   "outputs": [],
   "source": [
    "faith_pd_group_significance = diversity.actions.alpha_group_significance(core_metrics.faith_pd_vector,\n",
    "                                                                         sample_metadata)"
   ]
  },
  {
   "cell_type": "code",
   "execution_count": 18,
   "metadata": {},
   "outputs": [],
   "source": [
    "evenness_group_significance = diversity.actions.alpha_group_significance(core_metrics.evenness_vector,\n",
    "                                                                         sample_metadata)\n"
   ]
  },
  {
   "cell_type": "markdown",
   "metadata": {},
   "source": [
    "Visualize group significance results"
   ]
  },
  {
   "cell_type": "code",
   "execution_count": 19,
   "metadata": {},
   "outputs": [
    {
     "data": {
      "text/html": [
       "<div><img onload=\"(function(div, url){\n",
       "if (typeof require !== 'undefined') {\n",
       "    var baseURL = require.toUrl('').split('/').slice(0, -2).join('/');\n",
       "} else {\n",
       "    var baseURL = JSON.parse(\n",
       "        document.getElementById('jupyter-config-data').innerHTML\n",
       "    ).baseUrl.slice(0, -1);\n",
       "}\n",
       "url = baseURL + url;\n",
       "fetch(url).then(function(res) {\n",
       "    if (res.status === 404) {\n",
       "        div.innerHTML = 'Install QIIME 2 Jupyter extension with:<br />' +\n",
       "                        '<code>jupyter serverextension enable --py qiime2' +\n",
       "                        ' --sys-prefix</code><br />then restart your server.' +\n",
       "                        '<br /><br />(Interactive output not available on ' +\n",
       "                        'static notebook viewer services like nbviewer.)';\n",
       "    } else if (res.status === 409) {\n",
       "        div.innerHTML = 'Visualization no longer in scope. Re-run this cell' +\n",
       "                        ' to see the visualization.';\n",
       "    } else if (res.ok) {\n",
       "        url = res.url;\n",
       "        div.innerHTML = '<iframe src=\\'' + url + '\\' style=\\'' +\n",
       "                        'width: 100%; height: 700px; border: 0;\\'>' +\n",
       "                        '</iframe><hr />Open in a: <a href=\\'' + url + '\\'' +\n",
       "                        ' target=\\'_blank\\'>new window</a>'\n",
       "    } else {\n",
       "        div.innerHTML = 'Something has gone wrong. Check notebook server for' +\n",
       "                        ' errors.';\n",
       "    }\n",
       "});\n",
       "})(this.parentElement, '/qiime2/redirect?location=/tmp/qiime2-archive-shiva_aw')\" src=\"data:image/gif;base64,R0lGODlhAQABAIAAAP///wAAACH5BAEAAAAALAAAAAABAAEAAAICRAEAOw==\" /></div>"
      ],
      "text/plain": [
       "<visualization: Visualization uuid: 179f0b99-4c1d-4683-a983-399239b31548>"
      ]
     },
     "execution_count": 19,
     "metadata": {},
     "output_type": "execute_result"
    }
   ],
   "source": [
    "faith_pd_group_significance.visualization"
   ]
  },
  {
   "cell_type": "code",
   "execution_count": 20,
   "metadata": {},
   "outputs": [
    {
     "data": {
      "text/html": [
       "<div><img onload=\"(function(div, url){\n",
       "if (typeof require !== 'undefined') {\n",
       "    var baseURL = require.toUrl('').split('/').slice(0, -2).join('/');\n",
       "} else {\n",
       "    var baseURL = JSON.parse(\n",
       "        document.getElementById('jupyter-config-data').innerHTML\n",
       "    ).baseUrl.slice(0, -1);\n",
       "}\n",
       "url = baseURL + url;\n",
       "fetch(url).then(function(res) {\n",
       "    if (res.status === 404) {\n",
       "        div.innerHTML = 'Install QIIME 2 Jupyter extension with:<br />' +\n",
       "                        '<code>jupyter serverextension enable --py qiime2' +\n",
       "                        ' --sys-prefix</code><br />then restart your server.' +\n",
       "                        '<br /><br />(Interactive output not available on ' +\n",
       "                        'static notebook viewer services like nbviewer.)';\n",
       "    } else if (res.status === 409) {\n",
       "        div.innerHTML = 'Visualization no longer in scope. Re-run this cell' +\n",
       "                        ' to see the visualization.';\n",
       "    } else if (res.ok) {\n",
       "        url = res.url;\n",
       "        div.innerHTML = '<iframe src=\\'' + url + '\\' style=\\'' +\n",
       "                        'width: 100%; height: 700px; border: 0;\\'>' +\n",
       "                        '</iframe><hr />Open in a: <a href=\\'' + url + '\\'' +\n",
       "                        ' target=\\'_blank\\'>new window</a>'\n",
       "    } else {\n",
       "        div.innerHTML = 'Something has gone wrong. Check notebook server for' +\n",
       "                        ' errors.';\n",
       "    }\n",
       "});\n",
       "})(this.parentElement, '/qiime2/redirect?location=/tmp/qiime2-archive-rge_58_g')\" src=\"data:image/gif;base64,R0lGODlhAQABAIAAAP///wAAACH5BAEAAAAALAAAAAABAAEAAAICRAEAOw==\" /></div>"
      ],
      "text/plain": [
       "<visualization: Visualization uuid: 60c3fff3-703f-48de-bbba-6ab11a253c99>"
      ]
     },
     "execution_count": 20,
     "metadata": {},
     "output_type": "execute_result"
    }
   ],
   "source": [
    "evenness_group_significance.visualization"
   ]
  },
  {
   "cell_type": "markdown",
   "metadata": {},
   "source": [
    "\n",
    "> Question 6: Which categorical sample metadata columns are most strongly associated with the differences in microbial community richness? Are these differences statistically significant? \n",
    "\n",
    "> Answer 6: Pod względem rozmaitości bakteryjnej największe różnice zachodzą między dłońmi (szczególnie lewą) a językiem i jelitami. Różnice te są statystycznie istotne (p-value odpowiednio: 0.000532 i 0.000778).\n",
    "\n",
    "> Question 7: Which categorical sample metadata columns are most strongly associated with the differences in microbial community evenness? Are these differences statistically significant? \n",
    "\n",
    "> Answer 7: Pod względem jednolitości mikrobiomu największe różnice występują między dłońmi i jelitami (są one istotne statystycznie p-value ~ 0.04-0.02).\n",
    "\n",
    "### beta group significance\n",
    "\n",
    "In this data set, no continuous sample metadata columns (e.g., `days-since-experiment-start`) are correlated with alpha diversity, so we won’t test for those associations here. If you’re interested in performing those tests (for this data set, or for others), you can use the `diversity.visualizers.alpha-correlation` command.\n",
    "\n",
    "Next we’ll analyze sample composition in the context of categorical metadata using PERMANOVA (first described in [Anderson (2001)](https://onlinelibrary.wiley.com/doi/full/10.1111/j.1442-9993.2001.01070.pp.x)) using the `diversity.actions.beta_group_significance` method. The following commands will test whether distances between samples within a group, such as samples from the same body site (e.g., gut), are more similar to each other then they are to samples from the other groups (e.g., tongue, left palm, and right palm). It will also perform pairwise tests that will allow you to determine which specific pairs of groups (e.g., tongue and gut) differ from one another, if any. This command can be slow to run, especially when running pairwise analysis, since it is based on permutation tests. So, unlike the previous commands, we’ll run this on specific columns of metadata that we’re interested in exploring, rather than all metadata columns that it’s applicable to. Here we’ll apply this to our unweighted UniFrac distances, using two sample metadata columns, as follows."
   ]
  },
  {
   "cell_type": "code",
   "execution_count": 21,
   "metadata": {},
   "outputs": [
    {
     "data": {
      "text/plain": [
       "<Figure size 432x288 with 0 Axes>"
      ]
     },
     "metadata": {},
     "output_type": "display_data"
    }
   ],
   "source": [
    "uUniFrac_BodySite_significance = diversity.actions.beta_group_significance(core_metrics.unweighted_unifrac_distance_matrix,\n",
    "                                                                           sample_metadata.get_column('body-site'))"
   ]
  },
  {
   "cell_type": "code",
   "execution_count": 22,
   "metadata": {},
   "outputs": [
    {
     "data": {
      "text/plain": [
       "<Figure size 432x288 with 0 Axes>"
      ]
     },
     "metadata": {},
     "output_type": "display_data"
    }
   ],
   "source": [
    "uUniFrac_Subject_significance = diversity.actions.beta_group_significance(core_metrics.unweighted_unifrac_distance_matrix,\n",
    "                                                                          sample_metadata.get_column('subject'))"
   ]
  },
  {
   "cell_type": "code",
   "execution_count": 23,
   "metadata": {},
   "outputs": [
    {
     "data": {
      "text/html": [
       "<div><img onload=\"(function(div, url){\n",
       "if (typeof require !== 'undefined') {\n",
       "    var baseURL = require.toUrl('').split('/').slice(0, -2).join('/');\n",
       "} else {\n",
       "    var baseURL = JSON.parse(\n",
       "        document.getElementById('jupyter-config-data').innerHTML\n",
       "    ).baseUrl.slice(0, -1);\n",
       "}\n",
       "url = baseURL + url;\n",
       "fetch(url).then(function(res) {\n",
       "    if (res.status === 404) {\n",
       "        div.innerHTML = 'Install QIIME 2 Jupyter extension with:<br />' +\n",
       "                        '<code>jupyter serverextension enable --py qiime2' +\n",
       "                        ' --sys-prefix</code><br />then restart your server.' +\n",
       "                        '<br /><br />(Interactive output not available on ' +\n",
       "                        'static notebook viewer services like nbviewer.)';\n",
       "    } else if (res.status === 409) {\n",
       "        div.innerHTML = 'Visualization no longer in scope. Re-run this cell' +\n",
       "                        ' to see the visualization.';\n",
       "    } else if (res.ok) {\n",
       "        url = res.url;\n",
       "        div.innerHTML = '<iframe src=\\'' + url + '\\' style=\\'' +\n",
       "                        'width: 100%; height: 700px; border: 0;\\'>' +\n",
       "                        '</iframe><hr />Open in a: <a href=\\'' + url + '\\'' +\n",
       "                        ' target=\\'_blank\\'>new window</a>'\n",
       "    } else {\n",
       "        div.innerHTML = 'Something has gone wrong. Check notebook server for' +\n",
       "                        ' errors.';\n",
       "    }\n",
       "});\n",
       "})(this.parentElement, '/qiime2/redirect?location=/tmp/qiime2-archive-fiqsckng')\" src=\"data:image/gif;base64,R0lGODlhAQABAIAAAP///wAAACH5BAEAAAAALAAAAAABAAEAAAICRAEAOw==\" /></div>"
      ],
      "text/plain": [
       "<visualization: Visualization uuid: 89c76f6c-9916-43f9-87cc-406bd4f3f12b>"
      ]
     },
     "execution_count": 23,
     "metadata": {},
     "output_type": "execute_result"
    }
   ],
   "source": [
    "uUniFrac_BodySite_significance.visualization"
   ]
  },
  {
   "cell_type": "code",
   "execution_count": 24,
   "metadata": {},
   "outputs": [
    {
     "data": {
      "text/html": [
       "<div><img onload=\"(function(div, url){\n",
       "if (typeof require !== 'undefined') {\n",
       "    var baseURL = require.toUrl('').split('/').slice(0, -2).join('/');\n",
       "} else {\n",
       "    var baseURL = JSON.parse(\n",
       "        document.getElementById('jupyter-config-data').innerHTML\n",
       "    ).baseUrl.slice(0, -1);\n",
       "}\n",
       "url = baseURL + url;\n",
       "fetch(url).then(function(res) {\n",
       "    if (res.status === 404) {\n",
       "        div.innerHTML = 'Install QIIME 2 Jupyter extension with:<br />' +\n",
       "                        '<code>jupyter serverextension enable --py qiime2' +\n",
       "                        ' --sys-prefix</code><br />then restart your server.' +\n",
       "                        '<br /><br />(Interactive output not available on ' +\n",
       "                        'static notebook viewer services like nbviewer.)';\n",
       "    } else if (res.status === 409) {\n",
       "        div.innerHTML = 'Visualization no longer in scope. Re-run this cell' +\n",
       "                        ' to see the visualization.';\n",
       "    } else if (res.ok) {\n",
       "        url = res.url;\n",
       "        div.innerHTML = '<iframe src=\\'' + url + '\\' style=\\'' +\n",
       "                        'width: 100%; height: 700px; border: 0;\\'>' +\n",
       "                        '</iframe><hr />Open in a: <a href=\\'' + url + '\\'' +\n",
       "                        ' target=\\'_blank\\'>new window</a>'\n",
       "    } else {\n",
       "        div.innerHTML = 'Something has gone wrong. Check notebook server for' +\n",
       "                        ' errors.';\n",
       "    }\n",
       "});\n",
       "})(this.parentElement, '/qiime2/redirect?location=/tmp/qiime2-archive-oim77f30')\" src=\"data:image/gif;base64,R0lGODlhAQABAIAAAP///wAAACH5BAEAAAAALAAAAAABAAEAAAICRAEAOw==\" /></div>"
      ],
      "text/plain": [
       "<visualization: Visualization uuid: fe141ef4-e4f4-4a1a-89fe-a5b952b73c40>"
      ]
     },
     "execution_count": 24,
     "metadata": {},
     "output_type": "execute_result"
    }
   ],
   "source": [
    "uUniFrac_Subject_significance.visualization"
   ]
  },
  {
   "cell_type": "markdown",
   "metadata": {},
   "source": [
    "> Question 8: Are the associations between subjects and differences in microbial composition statistically significant? How about body sites? What specific pairs of body sites are significantly different from each other?  \n",
    "\n",
    "> Answer 8: Ze względu na sklad mikrobiomu różnice między osobnikami są statystycznie nieistotne (p-value = 0.613). Natomiast różnice między próbkami zebranymi z różnych części ciała są istotne statystycznie (p-value = 0.001). Największe występują między dłońmi a jelitami.\n",
    "\n",
    "Again, none of the continuous sample metadata that we have for this data set are correlated with sample composition, so we won’t test for those associations here. If you’re interested in performing those tests, you can use the `metadata.visualizers.distance_matrix` in combination with `diversity.visualizers.mantel` and `diversity.visualizers.bioenv` commands.\n",
    "\n",
    "Finally, ordination is a popular approach for exploring microbial community composition in the context of sample metadata. We can use the [Emperor](http://biocore.github.io/emperor/) tool to explore principal coordinates (PCoA) plots in the context of sample metadata. While our `diversity.pipelines.core_metrics_phylogenetic` command did already generate some Emperor plots, we want to pass an optional parameter, `custom_axes`, which is very useful for exploring time series data. The PCoA results that were used in `core-metrics-phylogeny` are also available, making it easy to generate new visualizations with Emperor. We will generate Emperor plots for unweighted UniFrac and Bray-Curtis so that the resulting plot will contain axes for principal coordinate 1, principal coordinate 2, and days since the experiment start. We will use that last axis to explore how these samples changed over time."
   ]
  },
  {
   "cell_type": "code",
   "execution_count": 25,
   "metadata": {
    "scrolled": true
   },
   "outputs": [
    {
     "data": {
      "text/html": [
       "<div><img onload=\"(function(div, url){\n",
       "if (typeof require !== 'undefined') {\n",
       "    var baseURL = require.toUrl('').split('/').slice(0, -2).join('/');\n",
       "} else {\n",
       "    var baseURL = JSON.parse(\n",
       "        document.getElementById('jupyter-config-data').innerHTML\n",
       "    ).baseUrl.slice(0, -1);\n",
       "}\n",
       "url = baseURL + url;\n",
       "fetch(url).then(function(res) {\n",
       "    if (res.status === 404) {\n",
       "        div.innerHTML = 'Install QIIME 2 Jupyter extension with:<br />' +\n",
       "                        '<code>jupyter serverextension enable --py qiime2' +\n",
       "                        ' --sys-prefix</code><br />then restart your server.' +\n",
       "                        '<br /><br />(Interactive output not available on ' +\n",
       "                        'static notebook viewer services like nbviewer.)';\n",
       "    } else if (res.status === 409) {\n",
       "        div.innerHTML = 'Visualization no longer in scope. Re-run this cell' +\n",
       "                        ' to see the visualization.';\n",
       "    } else if (res.ok) {\n",
       "        url = res.url;\n",
       "        div.innerHTML = '<iframe src=\\'' + url + '\\' style=\\'' +\n",
       "                        'width: 100%; height: 700px; border: 0;\\'>' +\n",
       "                        '</iframe><hr />Open in a: <a href=\\'' + url + '\\'' +\n",
       "                        ' target=\\'_blank\\'>new window</a>'\n",
       "    } else {\n",
       "        div.innerHTML = 'Something has gone wrong. Check notebook server for' +\n",
       "                        ' errors.';\n",
       "    }\n",
       "});\n",
       "})(this.parentElement, '/qiime2/redirect?location=/tmp/qiime2-archive-8k_4b6hx')\" src=\"data:image/gif;base64,R0lGODlhAQABAIAAAP///wAAACH5BAEAAAAALAAAAAABAAEAAAICRAEAOw==\" /></div>"
      ],
      "text/plain": [
       "<visualization: Visualization uuid: c0287acb-e072-4998-9a07-d78e2a011ea2>"
      ]
     },
     "execution_count": 25,
     "metadata": {},
     "output_type": "execute_result"
    }
   ],
   "source": [
    "emperor_plot_unifrac = emperor.visualizers.plot(core_metrics.unweighted_unifrac_pcoa_results,\n",
    "                                                sample_metadata,\n",
    "                                                custom_axes=['days-since-experiment-start'])\n",
    "emperor_plot_unifrac.visualization"
   ]
  },
  {
   "cell_type": "code",
   "execution_count": 26,
   "metadata": {},
   "outputs": [
    {
     "data": {
      "text/html": [
       "<div><img onload=\"(function(div, url){\n",
       "if (typeof require !== 'undefined') {\n",
       "    var baseURL = require.toUrl('').split('/').slice(0, -2).join('/');\n",
       "} else {\n",
       "    var baseURL = JSON.parse(\n",
       "        document.getElementById('jupyter-config-data').innerHTML\n",
       "    ).baseUrl.slice(0, -1);\n",
       "}\n",
       "url = baseURL + url;\n",
       "fetch(url).then(function(res) {\n",
       "    if (res.status === 404) {\n",
       "        div.innerHTML = 'Install QIIME 2 Jupyter extension with:<br />' +\n",
       "                        '<code>jupyter serverextension enable --py qiime2' +\n",
       "                        ' --sys-prefix</code><br />then restart your server.' +\n",
       "                        '<br /><br />(Interactive output not available on ' +\n",
       "                        'static notebook viewer services like nbviewer.)';\n",
       "    } else if (res.status === 409) {\n",
       "        div.innerHTML = 'Visualization no longer in scope. Re-run this cell' +\n",
       "                        ' to see the visualization.';\n",
       "    } else if (res.ok) {\n",
       "        url = res.url;\n",
       "        div.innerHTML = '<iframe src=\\'' + url + '\\' style=\\'' +\n",
       "                        'width: 100%; height: 700px; border: 0;\\'>' +\n",
       "                        '</iframe><hr />Open in a: <a href=\\'' + url + '\\'' +\n",
       "                        ' target=\\'_blank\\'>new window</a>'\n",
       "    } else {\n",
       "        div.innerHTML = 'Something has gone wrong. Check notebook server for' +\n",
       "                        ' errors.';\n",
       "    }\n",
       "});\n",
       "})(this.parentElement, '/qiime2/redirect?location=/tmp/qiime2-archive-ll6pje5r')\" src=\"data:image/gif;base64,R0lGODlhAQABAIAAAP///wAAACH5BAEAAAAALAAAAAABAAEAAAICRAEAOw==\" /></div>"
      ],
      "text/plain": [
       "<visualization: Visualization uuid: a8425f96-be1c-4029-b1d8-faf21330506a>"
      ]
     },
     "execution_count": 26,
     "metadata": {},
     "output_type": "execute_result"
    }
   ],
   "source": [
    "emperor_plot_bc = emperor.visualizers.plot(core_metrics.bray_curtis_pcoa_results,\n",
    "                                           sample_metadata,\n",
    "                                           custom_axes=['days-since-experiment-start'])\n",
    "emperor_plot_bc.visualization"
   ]
  },
  {
   "cell_type": "markdown",
   "metadata": {},
   "source": [
    "> Question 9: What differences do you observe between the unweighted UniFrac and Bray-Curtis PCoA plots? \n",
    "\n",
    "> Answer 9: Jedyną różnicą jaką udało mi się dostrzec jest odwrócenenie rozmieszczenia dwóch grup jelita <-> reszta. Przy miarze unweighted UniFrac próbki jelitowe leża \"na górze\" patrząc na oś Axis 1 w porównaniu z miarą Bray-Curtis, gdzie leżą na płaszczyźnie Axis 1=0 (czyli na dole, a reszta na górze).\n",
    "\n",
    "## Alpha rarefaction plotting\n",
    "\n",
    "In this section we’ll explore alpha diversity as a function of sampling depth using the `diversity.actions.alpha_rarefaction` visualizer. This visualizer computes one or more alpha diversity metrics at multiple sampling depths, in steps between 1 (optionally controlled with `min_depth` and the value provided as `max_depth`. At each sampling depth step, 10 rarefied tables will be generated, and the diversity metrics will be computed for all samples in the tables. The number of iterations (rarefied tables computed at each sampling depth) can be controlled with `iterations`. Average diversity values will be plotted for each sample at each even sampling depth, and samples can be grouped based on metadata in the resulting visualization if sample metadata is provided with the `metadata` parameter."
   ]
  },
  {
   "cell_type": "code",
   "execution_count": 27,
   "metadata": {},
   "outputs": [],
   "source": [
    "alpha_rarefaction = diversity.actions.alpha_rarefaction(table = denoised_sequences.table,\n",
    "                                                        max_depth = 4000,\n",
    "                                                        phylogeny = rooted_tree.rooted_tree,\n",
    "                                                        metadata = sample_metadata)"
   ]
  },
  {
   "cell_type": "code",
   "execution_count": 28,
   "metadata": {},
   "outputs": [
    {
     "data": {
      "text/html": [
       "<div><img onload=\"(function(div, url){\n",
       "if (typeof require !== 'undefined') {\n",
       "    var baseURL = require.toUrl('').split('/').slice(0, -2).join('/');\n",
       "} else {\n",
       "    var baseURL = JSON.parse(\n",
       "        document.getElementById('jupyter-config-data').innerHTML\n",
       "    ).baseUrl.slice(0, -1);\n",
       "}\n",
       "url = baseURL + url;\n",
       "fetch(url).then(function(res) {\n",
       "    if (res.status === 404) {\n",
       "        div.innerHTML = 'Install QIIME 2 Jupyter extension with:<br />' +\n",
       "                        '<code>jupyter serverextension enable --py qiime2' +\n",
       "                        ' --sys-prefix</code><br />then restart your server.' +\n",
       "                        '<br /><br />(Interactive output not available on ' +\n",
       "                        'static notebook viewer services like nbviewer.)';\n",
       "    } else if (res.status === 409) {\n",
       "        div.innerHTML = 'Visualization no longer in scope. Re-run this cell' +\n",
       "                        ' to see the visualization.';\n",
       "    } else if (res.ok) {\n",
       "        url = res.url;\n",
       "        div.innerHTML = '<iframe src=\\'' + url + '\\' style=\\'' +\n",
       "                        'width: 100%; height: 700px; border: 0;\\'>' +\n",
       "                        '</iframe><hr />Open in a: <a href=\\'' + url + '\\'' +\n",
       "                        ' target=\\'_blank\\'>new window</a>'\n",
       "    } else {\n",
       "        div.innerHTML = 'Something has gone wrong. Check notebook server for' +\n",
       "                        ' errors.';\n",
       "    }\n",
       "});\n",
       "})(this.parentElement, '/qiime2/redirect?location=/tmp/qiime2-archive-2tvy55l9')\" src=\"data:image/gif;base64,R0lGODlhAQABAIAAAP///wAAACH5BAEAAAAALAAAAAABAAEAAAICRAEAOw==\" /></div>"
      ],
      "text/plain": [
       "<visualization: Visualization uuid: 22fb0b24-97a8-42d5-a1d0-24e1ae53d93f>"
      ]
     },
     "execution_count": 28,
     "metadata": {},
     "output_type": "execute_result"
    }
   ],
   "source": [
    "alpha_rarefaction.visualization"
   ]
  },
  {
   "cell_type": "markdown",
   "metadata": {},
   "source": [
    "The visualization will have two plots. The top plot is an alpha rarefaction plot, and is primarily used to determine if the richness of the samples has been fully observed or sequenced. If the lines in the plot appear to “level out” (i.e., approach a slope of zero) at some sampling depth along the x-axis, that suggests that collecting additional sequences beyond that sampling depth would not be likely to result in the observation of additional features. If the lines in a plot don’t level out, this may be because the richness of the samples hasn’t been fully observed yet (because too few sequences were collected), or it could be an indicator that a lot of sequencing error remains in the data (which is being mistaken for novel diversity).\n",
    "\n",
    "The bottom plot in this visualization is important when grouping samples by metadata. It illustrates the number of samples that remain in each group when the feature table is rarefied to each sampling depth. If a given sampling depth `d` is larger than the total frequency of a sample `s` (i.e., the number of sequences that were obtained for sample `s`), it is not possible to compute the diversity metric for sample s at sampling depth `d`. If many of the samples in a group have lower total frequencies than `d`, the average diversity presented for that group at `d` in the top plot will be unreliable because it will have been computed on relatively few samples. When grouping samples by metadata, it is therefore essential to look at the bottom plot to ensure that the data presented in the top plot is reliable.\n",
    "\n",
    "> Question 10: When grouping samples by “body-site” and viewing the alpha rarefaction plot for the “observed_otus” metric, which body sites (if any) appear to exhibit sufficient diversity coverage (i.e., their rarefaction curves level off)? How many sequence variants appear to be present in those body sites? \n",
    "\n",
    "> Answer 10: Wystarczające pokrycie (krzywa już dalej nie rośnie i jest płaska) występuje dla języka i jelit. Również przy krańcosej wartości 3000 próbek przestaje rosnąć także dla lewej dłoni. Dla języka wydaje się wystarczających ok. 500-1000 sekwencji. Podobnie dla jelit między 500 a 1500 sekwencji. Dla lewej dłoni wartości te oscylują wokół wartości 3000 i więcej sekwencji. Prawa dłoń wydaje się osiągać nasycenie dopiero powyżej 4000 sekwencji.\n",
    "\n",
    "> Question 11: When grouping samples by “body-site” and viewing the alpha rarefaction plot for the “observed_otus” metric, the line for the “right palm” samples appears to level out at about 40, but then jumps to about 140. What do you think is happening here? (Hint: be sure to look at both the top and bottom plots.) \n",
    "\n",
    "> Answer 11: Próbki sekwencjonowane dla prawej dłoni mają niewystarczające pokrycie. Prawdopodobnie wynosi ono ok. 1000 sekwencji na próbkę i jest zbyt małe. Tylko 3 próbki wydają się mieć większe pokrycie.\n",
    "\n",
    "## Taxonomic analysis\n",
    "\n",
    "In the next sections we’ll begin to explore the taxonomic composition of the samples, and again relate that to sample metadata. The first step in this process is to assign taxonomy to the sequences in our `FeatureData[Sequence]` QIIME 2 artifact. We’ll do that using a pre-trained Naive Bayes classifier and the `q2-feature-classifier` plugin. This classifier was trained on the Greengenes 13_8 99% OTUs, where the sequences have been trimmed to only include 250 bases from the region of the 16S that was sequenced in this analysis (the V4 region, bound by the 515F/806R primer pair). We’ll apply this classifier to our sequences, and we can generate a visualization of the resulting mapping from sequence to taxonomy."
   ]
  },
  {
   "cell_type": "code",
   "execution_count": 37,
   "metadata": {},
   "outputs": [
    {
     "name": "stdout",
     "output_type": "stream",
     "text": [
      "--2020-02-22 18:18:58--  https://data.qiime2.org/2019.10/common/gg-13-8-99-515-806-nb-classifier.qza\n",
      "Translacja data.qiime2.org (data.qiime2.org)... 52.35.38.247\n",
      "Łączenie się z data.qiime2.org (data.qiime2.org)|52.35.38.247|:443... połączono.\n",
      "Żądanie HTTP wysłano, oczekiwanie na odpowiedź... 302 FOUND\n",
      "Lokalizacja: https://s3-us-west-2.amazonaws.com/qiime2-data/2019.10/common/gg-13-8-99-515-806-nb-classifier.qza [podążanie]\n",
      "--2020-02-22 18:18:59--  https://s3-us-west-2.amazonaws.com/qiime2-data/2019.10/common/gg-13-8-99-515-806-nb-classifier.qza\n",
      "Translacja s3-us-west-2.amazonaws.com (s3-us-west-2.amazonaws.com)... 52.218.216.248\n",
      "Łączenie się z s3-us-west-2.amazonaws.com (s3-us-west-2.amazonaws.com)|52.218.216.248|:443... połączono.\n",
      "Żądanie HTTP wysłano, oczekiwanie na odpowiedź... 200 OK\n",
      "Długość: 28373760 (27M) [binary/octet-stream]\n",
      "Zapis do: `.//gg-13-8-99-515-806-nb-classifier.qza'\n",
      "\n",
      ".//gg-13-8-99-515-8 100%[===================>]  27,06M   663KB/s     w 19s     \n",
      "\n",
      "2020-02-22 18:19:18 (1,46 MB/s) - zapisano `.//gg-13-8-99-515-806-nb-classifier.qza' [28373760/28373760]\n",
      "\n"
     ]
    }
   ],
   "source": [
    "!wget -O $workdir\"/gg-13-8-99-515-806-nb-classifier.qza\" \"https://data.qiime2.org/2019.10/common/gg-13-8-99-515-806-nb-classifier.qza\""
   ]
  },
  {
   "cell_type": "code",
   "execution_count": 29,
   "metadata": {},
   "outputs": [],
   "source": [
    "gg_classifier = qiime2.Artifact.load(workdir+'/gg-13-8-99-515-806-nb-classifier.qza')"
   ]
  },
  {
   "cell_type": "code",
   "execution_count": 30,
   "metadata": {},
   "outputs": [],
   "source": [
    "taxonomy = feature_classifier.methods.classify_sklearn(reads = denoised_sequences.representative_sequences,\n",
    "                                                       classifier = gg_classifier)"
   ]
  },
  {
   "cell_type": "code",
   "execution_count": 31,
   "metadata": {},
   "outputs": [
    {
     "data": {
      "text/html": [
       "<div><img onload=\"(function(div, url){\n",
       "if (typeof require !== 'undefined') {\n",
       "    var baseURL = require.toUrl('').split('/').slice(0, -2).join('/');\n",
       "} else {\n",
       "    var baseURL = JSON.parse(\n",
       "        document.getElementById('jupyter-config-data').innerHTML\n",
       "    ).baseUrl.slice(0, -1);\n",
       "}\n",
       "url = baseURL + url;\n",
       "fetch(url).then(function(res) {\n",
       "    if (res.status === 404) {\n",
       "        div.innerHTML = 'Install QIIME 2 Jupyter extension with:<br />' +\n",
       "                        '<code>jupyter serverextension enable --py qiime2' +\n",
       "                        ' --sys-prefix</code><br />then restart your server.' +\n",
       "                        '<br /><br />(Interactive output not available on ' +\n",
       "                        'static notebook viewer services like nbviewer.)';\n",
       "    } else if (res.status === 409) {\n",
       "        div.innerHTML = 'Visualization no longer in scope. Re-run this cell' +\n",
       "                        ' to see the visualization.';\n",
       "    } else if (res.ok) {\n",
       "        url = res.url;\n",
       "        div.innerHTML = '<iframe src=\\'' + url + '\\' style=\\'' +\n",
       "                        'width: 100%; height: 700px; border: 0;\\'>' +\n",
       "                        '</iframe><hr />Open in a: <a href=\\'' + url + '\\'' +\n",
       "                        ' target=\\'_blank\\'>new window</a>'\n",
       "    } else {\n",
       "        div.innerHTML = 'Something has gone wrong. Check notebook server for' +\n",
       "                        ' errors.';\n",
       "    }\n",
       "});\n",
       "})(this.parentElement, '/qiime2/redirect?location=/tmp/qiime2-archive-cghhdjx9')\" src=\"data:image/gif;base64,R0lGODlhAQABAIAAAP///wAAACH5BAEAAAAALAAAAAABAAEAAAICRAEAOw==\" /></div>"
      ],
      "text/plain": [
       "<visualization: Visualization uuid: 56450f0f-11d9-47ba-a3ca-c900691a11ee>"
      ]
     },
     "execution_count": 31,
     "metadata": {},
     "output_type": "execute_result"
    }
   ],
   "source": [
    "taxonomy_classification = metadata.visualizers.tabulate(taxonomy.classification.view(qiime2.Metadata))\n",
    "taxonomy_classification.visualization"
   ]
  },
  {
   "cell_type": "markdown",
   "metadata": {},
   "source": [
    "Next, we can view the taxonomic composition of our samples with interactive bar plots. Generate those plots with the following command and then open the visualization."
   ]
  },
  {
   "cell_type": "code",
   "execution_count": 32,
   "metadata": {},
   "outputs": [
    {
     "data": {
      "text/html": [
       "<div><img onload=\"(function(div, url){\n",
       "if (typeof require !== 'undefined') {\n",
       "    var baseURL = require.toUrl('').split('/').slice(0, -2).join('/');\n",
       "} else {\n",
       "    var baseURL = JSON.parse(\n",
       "        document.getElementById('jupyter-config-data').innerHTML\n",
       "    ).baseUrl.slice(0, -1);\n",
       "}\n",
       "url = baseURL + url;\n",
       "fetch(url).then(function(res) {\n",
       "    if (res.status === 404) {\n",
       "        div.innerHTML = 'Install QIIME 2 Jupyter extension with:<br />' +\n",
       "                        '<code>jupyter serverextension enable --py qiime2' +\n",
       "                        ' --sys-prefix</code><br />then restart your server.' +\n",
       "                        '<br /><br />(Interactive output not available on ' +\n",
       "                        'static notebook viewer services like nbviewer.)';\n",
       "    } else if (res.status === 409) {\n",
       "        div.innerHTML = 'Visualization no longer in scope. Re-run this cell' +\n",
       "                        ' to see the visualization.';\n",
       "    } else if (res.ok) {\n",
       "        url = res.url;\n",
       "        div.innerHTML = '<iframe src=\\'' + url + '\\' style=\\'' +\n",
       "                        'width: 100%; height: 700px; border: 0;\\'>' +\n",
       "                        '</iframe><hr />Open in a: <a href=\\'' + url + '\\'' +\n",
       "                        ' target=\\'_blank\\'>new window</a>'\n",
       "    } else {\n",
       "        div.innerHTML = 'Something has gone wrong. Check notebook server for' +\n",
       "                        ' errors.';\n",
       "    }\n",
       "});\n",
       "})(this.parentElement, '/qiime2/redirect?location=/tmp/qiime2-archive-oac4v60c')\" src=\"data:image/gif;base64,R0lGODlhAQABAIAAAP///wAAACH5BAEAAAAALAAAAAABAAEAAAICRAEAOw==\" /></div>"
      ],
      "text/plain": [
       "<visualization: Visualization uuid: fc140dc7-65c1-459c-8a05-417c16b9e57e>"
      ]
     },
     "execution_count": 32,
     "metadata": {},
     "output_type": "execute_result"
    }
   ],
   "source": [
    "taxa_bar_plot = taxa.visualizers.barplot(denoised_sequences.table, taxonomy.classification, sample_metadata)\n",
    "taxa_bar_plot.visualization"
   ]
  },
  {
   "cell_type": "markdown",
   "metadata": {},
   "source": [
    "> Question 12: Visualize the samples at Level 2 (which corresponds to the phylum level in this analysis), and then sort the samples by `body-site`, then by `subject`, and then by `days-since-experiment-start`. What are the dominant phyla in each in `body-site`? Do you observe any consistent change across the two subjects between `days-since-experiment-start` `0` and the later timepoints? \n",
    "\n",
    "> Answer 12: Dla jelit dominującą bakterią jest \"Spirochaetes\", dla lewej dłoni: \"Tenericutes\" i \"Firmicutes\", dla prawej dłoni dominują różne szczepy w zależności od badanego i dnia od początku eksperymentu. Na koniec dla języka dominują \"Tenericutes\" i \"Spirochaetes\". Dla obu badanych, w przypadku próbek dla prawej dłoni daje się zauważyć różnicę między punktem startowym eksperymentu a kolejnymi dniami jego trwania. W dniu zerowym dla prawych dłoni dominuje \"Spirochaetes\", by w dalszych dniach ustąpić innym microbom. Może efekt \"brudnej klamki do drzwi\"?\n",
    "\n",
    "## Differential abundance testing with ANCOM\n",
    "\n",
    "ANCOM can be applied to identify features that are differentially abundant (i.e. present in different abundances) across sample groups. As with any bioinformatics method, you should be aware of the assumptions and limitations of ANCOM before using it. We recommend reviewing the [ANCOM paper](https://www.ncbi.nlm.nih.gov/pubmed/26028277) before using this method.\n",
    "\n",
    "**Note  \n",
    "Differential abundance testing in microbiome analysis is an active area of research. There are two QIIME 2 plugins that can be used for this: `q2-gneiss` and `q2-composition`. This section uses `q2-composition`, but there is [another tutorial which uses gneiss](https://docs.qiime2.org/2019.10/tutorials/gneiss/) on a different dataset if you are interested in learning more.**\n",
    "\n",
    "ANCOM is implemented in the `q2-composition` plugin. ANCOM assumes that few (less than about 25%) of the features are changing between groups. If you expect that more features are changing between your groups, you should not use ANCOM as it will be more error-prone (an increase in both Type I and Type II errors is possible). Because we expect a lot of features to change in abundance across body sites, in this tutorial we’ll filter our full feature table to only contain gut samples. We’ll then apply ANCOM to determine which, if any, sequence variants and genera are differentially abundant across the gut samples of our two subjects.\n",
    "\n",
    "We’ll start by creating a feature table that contains only the gut samples. (To learn more about filtering, see the [Filtering Data](https://docs.qiime2.org/2019.10/tutorials/filtering/) tutorial.)"
   ]
  },
  {
   "cell_type": "code",
   "execution_count": 33,
   "metadata": {},
   "outputs": [],
   "source": [
    "gut_denoise = feature_table.methods.filter_samples(denoised_sequences.table,\n",
    "                                                  metadata = sample_metadata,\n",
    "                                                  where = \"[body-site]='gut'\")"
   ]
  },
  {
   "cell_type": "markdown",
   "metadata": {},
   "source": [
    "ANCOM operates on a `FeatureTable[Composition]` QIIME 2 artifact, which is based on frequencies of features on a per-sample basis, but cannot tolerate frequencies of zero. To build the composition artifact, a `FeatureTable[Frequency]` artifact must be provided to add-pseudocount (an imputation method), which will produce the `FeatureTable[Composition]` artifact."
   ]
  },
  {
   "cell_type": "code",
   "execution_count": 34,
   "metadata": {},
   "outputs": [],
   "source": [
    "gut_denoise_composition = composition.actions.add_pseudocount(gut_denoise.filtered_table)"
   ]
  },
  {
   "cell_type": "markdown",
   "metadata": {},
   "source": [
    "We can then run ANCOM on the `subject` column to determine what features differ in abundance across the gut samples of the two subjects."
   ]
  },
  {
   "cell_type": "code",
   "execution_count": 35,
   "metadata": {},
   "outputs": [
    {
     "name": "stderr",
     "output_type": "stream",
     "text": [
      "/home/kamyk/Work/Software/MiniConda/envs/qiime2-2019.10/lib/python3.6/site-packages/scipy/stats/stats.py:3235: RuntimeWarning: invalid value encountered in double_scalars\n",
      "  f = msb / msw\n"
     ]
    }
   ],
   "source": [
    "ancom_gut_denoise = composition.actions.ancom(table = gut_denoise_composition.composition_table,\n",
    "                                             metadata = sample_metadata.get_column('subject'))"
   ]
  },
  {
   "cell_type": "code",
   "execution_count": 36,
   "metadata": {},
   "outputs": [
    {
     "data": {
      "text/html": [
       "<div><img onload=\"(function(div, url){\n",
       "if (typeof require !== 'undefined') {\n",
       "    var baseURL = require.toUrl('').split('/').slice(0, -2).join('/');\n",
       "} else {\n",
       "    var baseURL = JSON.parse(\n",
       "        document.getElementById('jupyter-config-data').innerHTML\n",
       "    ).baseUrl.slice(0, -1);\n",
       "}\n",
       "url = baseURL + url;\n",
       "fetch(url).then(function(res) {\n",
       "    if (res.status === 404) {\n",
       "        div.innerHTML = 'Install QIIME 2 Jupyter extension with:<br />' +\n",
       "                        '<code>jupyter serverextension enable --py qiime2' +\n",
       "                        ' --sys-prefix</code><br />then restart your server.' +\n",
       "                        '<br /><br />(Interactive output not available on ' +\n",
       "                        'static notebook viewer services like nbviewer.)';\n",
       "    } else if (res.status === 409) {\n",
       "        div.innerHTML = 'Visualization no longer in scope. Re-run this cell' +\n",
       "                        ' to see the visualization.';\n",
       "    } else if (res.ok) {\n",
       "        url = res.url;\n",
       "        div.innerHTML = '<iframe src=\\'' + url + '\\' style=\\'' +\n",
       "                        'width: 100%; height: 700px; border: 0;\\'>' +\n",
       "                        '</iframe><hr />Open in a: <a href=\\'' + url + '\\'' +\n",
       "                        ' target=\\'_blank\\'>new window</a>'\n",
       "    } else {\n",
       "        div.innerHTML = 'Something has gone wrong. Check notebook server for' +\n",
       "                        ' errors.';\n",
       "    }\n",
       "});\n",
       "})(this.parentElement, '/qiime2/redirect?location=/tmp/qiime2-archive-p1j_rkzv')\" src=\"data:image/gif;base64,R0lGODlhAQABAIAAAP///wAAACH5BAEAAAAALAAAAAABAAEAAAICRAEAOw==\" /></div>"
      ],
      "text/plain": [
       "<visualization: Visualization uuid: 27050f9a-4cd5-408e-bb3e-53031d4cc973>"
      ]
     },
     "execution_count": 36,
     "metadata": {},
     "output_type": "execute_result"
    }
   ],
   "source": [
    "ancom_gut_denoise.visualization"
   ]
  },
  {
   "cell_type": "markdown",
   "metadata": {},
   "source": [
    "> Question 13: Which sequence variants differ in abundance across Subject? In which subject is each sequence variant more abundant? What are the taxonomies of some of these sequence variants? (To answer the last question you’ll need to refer to another visualization that was generated in this tutorial.) \n",
    "\n",
    "> Answer 13: Dla pacjenta nr 1 dominuje 52UUSEWK016, dla pacjenta nr 2: 52V295RS016. Drugi z wariantów (ten występujący u pacjenta nr 2) 52V295RS016 występuje w nieco większym nasyceniu niż wariant pacjenta 1.\n",
    "\n",
    "We’re also often interested in performing a differential abundance test at a specific taxonomic level. To do this, we can collapse the features in our `FeatureTable[Frequency]` at the taxonomic level of interest, and then re-run the above steps. In this tutorial, we collapse our feature table at the genus level (i.e. level 6 of the Greengenes taxonomy).\n"
   ]
  },
  {
   "cell_type": "code",
   "execution_count": 37,
   "metadata": {},
   "outputs": [],
   "source": [
    "gut_table_l6 = taxa.methods.collapse(table = gut_denoise.filtered_table,\n",
    "                                     taxonomy = taxonomy.classification,\n",
    "                                     level = 6)"
   ]
  },
  {
   "cell_type": "code",
   "execution_count": 38,
   "metadata": {},
   "outputs": [],
   "source": [
    "gut_table_l6_composition = composition.actions.add_pseudocount(gut_table_l6.collapsed_table)"
   ]
  },
  {
   "cell_type": "code",
   "execution_count": 39,
   "metadata": {},
   "outputs": [],
   "source": [
    "ancom_gut_table_l6 = composition.actions.ancom(table = gut_table_l6_composition.composition_table,\n",
    "                                               metadata = sample_metadata.get_column('subject'))"
   ]
  },
  {
   "cell_type": "code",
   "execution_count": 40,
   "metadata": {},
   "outputs": [
    {
     "data": {
      "text/html": [
       "<div><img onload=\"(function(div, url){\n",
       "if (typeof require !== 'undefined') {\n",
       "    var baseURL = require.toUrl('').split('/').slice(0, -2).join('/');\n",
       "} else {\n",
       "    var baseURL = JSON.parse(\n",
       "        document.getElementById('jupyter-config-data').innerHTML\n",
       "    ).baseUrl.slice(0, -1);\n",
       "}\n",
       "url = baseURL + url;\n",
       "fetch(url).then(function(res) {\n",
       "    if (res.status === 404) {\n",
       "        div.innerHTML = 'Install QIIME 2 Jupyter extension with:<br />' +\n",
       "                        '<code>jupyter serverextension enable --py qiime2' +\n",
       "                        ' --sys-prefix</code><br />then restart your server.' +\n",
       "                        '<br /><br />(Interactive output not available on ' +\n",
       "                        'static notebook viewer services like nbviewer.)';\n",
       "    } else if (res.status === 409) {\n",
       "        div.innerHTML = 'Visualization no longer in scope. Re-run this cell' +\n",
       "                        ' to see the visualization.';\n",
       "    } else if (res.ok) {\n",
       "        url = res.url;\n",
       "        div.innerHTML = '<iframe src=\\'' + url + '\\' style=\\'' +\n",
       "                        'width: 100%; height: 700px; border: 0;\\'>' +\n",
       "                        '</iframe><hr />Open in a: <a href=\\'' + url + '\\'' +\n",
       "                        ' target=\\'_blank\\'>new window</a>'\n",
       "    } else {\n",
       "        div.innerHTML = 'Something has gone wrong. Check notebook server for' +\n",
       "                        ' errors.';\n",
       "    }\n",
       "});\n",
       "})(this.parentElement, '/qiime2/redirect?location=/tmp/qiime2-archive-hycbbet7')\" src=\"data:image/gif;base64,R0lGODlhAQABAIAAAP///wAAACH5BAEAAAAALAAAAAABAAEAAAICRAEAOw==\" /></div>"
      ],
      "text/plain": [
       "<visualization: Visualization uuid: ecf619da-124d-49ea-bf43-ae694bb56367>"
      ]
     },
     "execution_count": 40,
     "metadata": {},
     "output_type": "execute_result"
    }
   ],
   "source": [
    "ancom_gut_table_l6.visualization"
   ]
  },
  {
   "cell_type": "markdown",
   "metadata": {},
   "source": [
    "> Question 14: Which genera differ in abundance across subject? In which subject is each genus more abundant?\n",
    "\n",
    "> Answer 14: U pacjenta 1 dominuje Paraprevotella, u pacjenta nr 2: Parabacteroides. Gatunek występujący u pacjenta nr 2 jest o połowę bardziej liczny niż ten występujący u pierwszego."
   ]
  },
  {
   "attachments": {
    "emperor-image.svg": {
     "image/svg+xml": [
      "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"
     ]
    }
   },
   "cell_type": "markdown",
   "metadata": {},
   "source": [
    "## Pytania dodatkowe\n",
    "\n",
    "### beta-diversity / PCoA\n",
    "\n",
    "![emperor-image.svg](attachment:emperor-image.svg)\n",
    "\n",
    "Legenda:\n",
    " - kolor czerwony: jelita\n",
    " - kolor niebieski: lewa dłoń\n",
    " - kolor pomarańczowy: prawa dłoń\n",
    " - kolor zielony język\n",
    " \n",
    " - Kulki - próbki dla uczestników nie biorących antybiotyków\n",
    " - Ring - próbki uczestników po przyjęciu antybiotyków\n",
    "\n",
    "\n",
    "### taksonomia"
   ]
  },
  {
   "cell_type": "code",
   "execution_count": 112,
   "metadata": {},
   "outputs": [
    {
     "name": "stdout",
     "output_type": "stream",
     "text": [
      "--2020-02-23 20:05:44--  https://data.qiime2.org/2019.10/common/sepp-refs-gg-13-8.qza\n",
      "Translacja data.qiime2.org (data.qiime2.org)... 52.35.38.247\n",
      "Łączenie się z data.qiime2.org (data.qiime2.org)|52.35.38.247|:443... połączono.\n",
      "Żądanie HTTP wysłano, oczekiwanie na odpowiedź... 302 FOUND\n",
      "Lokalizacja: https://s3-us-west-2.amazonaws.com/qiime2-data/2019.10/common/sepp-refs-gg-13-8.qza [podążanie]\n",
      "--2020-02-23 20:05:45--  https://s3-us-west-2.amazonaws.com/qiime2-data/2019.10/common/sepp-refs-gg-13-8.qza\n",
      "Translacja s3-us-west-2.amazonaws.com (s3-us-west-2.amazonaws.com)... 52.218.234.32\n",
      "Łączenie się z s3-us-west-2.amazonaws.com (s3-us-west-2.amazonaws.com)|52.218.234.32|:443... połączono.\n",
      "Żądanie HTTP wysłano, oczekiwanie na odpowiedź... 200 OK\n",
      "Długość: 50161069 (48M) [binary/octet-stream]\n",
      "Zapis do: `sepp-refs-gg-13-8.qza'\n",
      "\n",
      "sepp-refs-gg-13-8.q 100%[===================>]  47,84M  1,16MB/s     w 34s     \n",
      "\n",
      "2020-02-23 20:06:21 (1,39 MB/s) - zapisano `sepp-refs-gg-13-8.qza' [50161069/50161069]\n",
      "\n"
     ]
    }
   ],
   "source": [
    "!wget https://data.qiime2.org/2019.10/common/sepp-refs-gg-13-8.qza"
   ]
  },
  {
   "cell_type": "code",
   "execution_count": 41,
   "metadata": {},
   "outputs": [],
   "source": [
    "ref_database = qiime2.Artifact.load(workdir+'/sepp-refs-gg-13-8.qza')"
   ]
  },
  {
   "cell_type": "code",
   "execution_count": 43,
   "metadata": {},
   "outputs": [
    {
     "ename": "CalledProcessError",
     "evalue": "Command '['run-sepp.sh', '/tmp/qiime2-archive-xt3jfhej/77eb9040-5f64-4c9f-b1b2-80256f2e0ce6/data/dna-sequences.fasta', 'q2-fragment-insertion', '-x', '5', '-A', '1000', '-P', '5000', '-a', '/tmp/qiime2-archive-kaeauv0f/a14c6180-506b-4ecb-bacb-9cb30bc3044b/data/aligned-dna-sequences.fasta', '-t', '/tmp/qiime2-archive-kaeauv0f/a14c6180-506b-4ecb-bacb-9cb30bc3044b/data/tree.nwk', '-r', '/tmp/qiime2-archive-kaeauv0f/a14c6180-506b-4ecb-bacb-9cb30bc3044b/data/raxml-info.txt']' returned non-zero exit status 1.",
     "output_type": "error",
     "traceback": [
      "\u001b[0;31m---------------------------------------------------------------------------\u001b[0m",
      "\u001b[0;31mCalledProcessError\u001b[0m                        Traceback (most recent call last)",
      "\u001b[0;32m<ipython-input-43-60a9927a772a>\u001b[0m in \u001b[0;36m<module>\u001b[0;34m\u001b[0m\n\u001b[1;32m      2\u001b[0m                                                                         \u001b[0mdenoised_sequences\u001b[0m\u001b[0;34m.\u001b[0m\u001b[0mrepresentative_sequences\u001b[0m\u001b[0;34m,\u001b[0m\u001b[0;34m\u001b[0m\u001b[0;34m\u001b[0m\u001b[0m\n\u001b[1;32m      3\u001b[0m                                                                         \u001b[0mreference_database\u001b[0m \u001b[0;34m=\u001b[0m \u001b[0mref_database\u001b[0m\u001b[0;34m,\u001b[0m\u001b[0;34m\u001b[0m\u001b[0;34m\u001b[0m\u001b[0m\n\u001b[0;32m----> 4\u001b[0;31m                                                                         threads = 5)\n\u001b[0m",
      "\u001b[0;32m</home/kamyk/Work/Software/MiniConda/envs/qiime2-2019.10/lib/python3.6/site-packages/decorator.py:decorator-gen-309>\u001b[0m in \u001b[0;36msepp\u001b[0;34m(representative_sequences, reference_database, alignment_subset_size, placement_subset_size, threads, debug)\u001b[0m\n",
      "\u001b[0;32m~/Work/Software/MiniConda/envs/qiime2-2019.10/lib/python3.6/site-packages/qiime2/sdk/action.py\u001b[0m in \u001b[0;36mbound_callable\u001b[0;34m(*args, **kwargs)\u001b[0m\n\u001b[1;32m    238\u001b[0m                 \u001b[0;31m# Execute\u001b[0m\u001b[0;34m\u001b[0m\u001b[0;34m\u001b[0m\u001b[0;34m\u001b[0m\u001b[0m\n\u001b[1;32m    239\u001b[0m                 outputs = self._callable_executor_(scope, callable_args,\n\u001b[0;32m--> 240\u001b[0;31m                                                    output_types, provenance)\n\u001b[0m\u001b[1;32m    241\u001b[0m \u001b[0;34m\u001b[0m\u001b[0m\n\u001b[1;32m    242\u001b[0m                 \u001b[0;32mif\u001b[0m \u001b[0mlen\u001b[0m\u001b[0;34m(\u001b[0m\u001b[0moutputs\u001b[0m\u001b[0;34m)\u001b[0m \u001b[0;34m!=\u001b[0m \u001b[0mlen\u001b[0m\u001b[0;34m(\u001b[0m\u001b[0mself\u001b[0m\u001b[0;34m.\u001b[0m\u001b[0msignature\u001b[0m\u001b[0;34m.\u001b[0m\u001b[0moutputs\u001b[0m\u001b[0;34m)\u001b[0m\u001b[0;34m:\u001b[0m\u001b[0;34m\u001b[0m\u001b[0;34m\u001b[0m\u001b[0m\n",
      "\u001b[0;32m~/Work/Software/MiniConda/envs/qiime2-2019.10/lib/python3.6/site-packages/qiime2/sdk/action.py\u001b[0m in \u001b[0;36m_callable_executor_\u001b[0;34m(self, scope, view_args, output_types, provenance)\u001b[0m\n\u001b[1;32m    381\u001b[0m \u001b[0;34m\u001b[0m\u001b[0m\n\u001b[1;32m    382\u001b[0m     \u001b[0;32mdef\u001b[0m \u001b[0m_callable_executor_\u001b[0m\u001b[0;34m(\u001b[0m\u001b[0mself\u001b[0m\u001b[0;34m,\u001b[0m \u001b[0mscope\u001b[0m\u001b[0;34m,\u001b[0m \u001b[0mview_args\u001b[0m\u001b[0;34m,\u001b[0m \u001b[0moutput_types\u001b[0m\u001b[0;34m,\u001b[0m \u001b[0mprovenance\u001b[0m\u001b[0;34m)\u001b[0m\u001b[0;34m:\u001b[0m\u001b[0;34m\u001b[0m\u001b[0;34m\u001b[0m\u001b[0m\n\u001b[0;32m--> 383\u001b[0;31m         \u001b[0moutput_views\u001b[0m \u001b[0;34m=\u001b[0m \u001b[0mself\u001b[0m\u001b[0;34m.\u001b[0m\u001b[0m_callable\u001b[0m\u001b[0;34m(\u001b[0m\u001b[0;34m**\u001b[0m\u001b[0mview_args\u001b[0m\u001b[0;34m)\u001b[0m\u001b[0;34m\u001b[0m\u001b[0;34m\u001b[0m\u001b[0m\n\u001b[0m\u001b[1;32m    384\u001b[0m         \u001b[0moutput_views\u001b[0m \u001b[0;34m=\u001b[0m \u001b[0mtuplize\u001b[0m\u001b[0;34m(\u001b[0m\u001b[0moutput_views\u001b[0m\u001b[0;34m)\u001b[0m\u001b[0;34m\u001b[0m\u001b[0;34m\u001b[0m\u001b[0m\n\u001b[1;32m    385\u001b[0m \u001b[0;34m\u001b[0m\u001b[0m\n",
      "\u001b[0;32m~/Work/Software/MiniConda/envs/qiime2-2019.10/lib/python3.6/site-packages/q2_fragment_insertion/_insertion.py\u001b[0m in \u001b[0;36msepp\u001b[0;34m(representative_sequences, reference_database, alignment_subset_size, placement_subset_size, threads, debug)\u001b[0m\n\u001b[1;32m     75\u001b[0m              \u001b[0mstr\u001b[0m\u001b[0;34m(\u001b[0m\u001b[0mreference_database\u001b[0m\u001b[0;34m.\u001b[0m\u001b[0mphylogeny\u001b[0m\u001b[0;34m.\u001b[0m\u001b[0mpath_maker\u001b[0m\u001b[0;34m(\u001b[0m\u001b[0;34m)\u001b[0m\u001b[0;34m)\u001b[0m\u001b[0;34m,\u001b[0m\u001b[0;34m\u001b[0m\u001b[0;34m\u001b[0m\u001b[0m\n\u001b[1;32m     76\u001b[0m              \u001b[0mstr\u001b[0m\u001b[0;34m(\u001b[0m\u001b[0mreference_database\u001b[0m\u001b[0;34m.\u001b[0m\u001b[0mraxml_info\u001b[0m\u001b[0;34m.\u001b[0m\u001b[0mpath_maker\u001b[0m\u001b[0;34m(\u001b[0m\u001b[0;34m)\u001b[0m\u001b[0;34m)\u001b[0m\u001b[0;34m,\u001b[0m\u001b[0;34m\u001b[0m\u001b[0;34m\u001b[0m\u001b[0m\n\u001b[0;32m---> 77\u001b[0;31m              debug)\n\u001b[0m\u001b[1;32m     78\u001b[0m         \u001b[0mouttree\u001b[0m \u001b[0;34m=\u001b[0m \u001b[0mos\u001b[0m\u001b[0;34m.\u001b[0m\u001b[0mpath\u001b[0m\u001b[0;34m.\u001b[0m\u001b[0mjoin\u001b[0m\u001b[0;34m(\u001b[0m\u001b[0mtmp\u001b[0m\u001b[0;34m,\u001b[0m \u001b[0mtree\u001b[0m\u001b[0;34m)\u001b[0m\u001b[0;34m\u001b[0m\u001b[0;34m\u001b[0m\u001b[0m\n\u001b[1;32m     79\u001b[0m         \u001b[0moutplacements\u001b[0m \u001b[0;34m=\u001b[0m \u001b[0mos\u001b[0m\u001b[0;34m.\u001b[0m\u001b[0mpath\u001b[0m\u001b[0;34m.\u001b[0m\u001b[0mjoin\u001b[0m\u001b[0;34m(\u001b[0m\u001b[0mtmp\u001b[0m\u001b[0;34m,\u001b[0m \u001b[0mplacements\u001b[0m\u001b[0;34m)\u001b[0m\u001b[0;34m\u001b[0m\u001b[0;34m\u001b[0m\u001b[0m\n",
      "\u001b[0;32m~/Work/Software/MiniConda/envs/qiime2-2019.10/lib/python3.6/site-packages/q2_fragment_insertion/_insertion.py\u001b[0m in \u001b[0;36m_run\u001b[0;34m(seqs_fp, threads, cwd, alignment_subset_size, placement_subset_size, reference_alignment, reference_phylogeny, reference_info, debug)\u001b[0m\n\u001b[1;32m     51\u001b[0m         \u001b[0mcmd\u001b[0m\u001b[0;34m.\u001b[0m\u001b[0mextend\u001b[0m\u001b[0;34m(\u001b[0m\u001b[0;34m[\u001b[0m\u001b[0;34m'-b'\u001b[0m\u001b[0;34m,\u001b[0m \u001b[0;34m'1'\u001b[0m\u001b[0;34m]\u001b[0m\u001b[0;34m)\u001b[0m\u001b[0;34m\u001b[0m\u001b[0;34m\u001b[0m\u001b[0m\n\u001b[1;32m     52\u001b[0m \u001b[0;34m\u001b[0m\u001b[0m\n\u001b[0;32m---> 53\u001b[0;31m     \u001b[0msubprocess\u001b[0m\u001b[0;34m.\u001b[0m\u001b[0mrun\u001b[0m\u001b[0;34m(\u001b[0m\u001b[0mcmd\u001b[0m\u001b[0;34m,\u001b[0m \u001b[0mcheck\u001b[0m\u001b[0;34m=\u001b[0m\u001b[0;32mTrue\u001b[0m\u001b[0;34m,\u001b[0m \u001b[0mcwd\u001b[0m\u001b[0;34m=\u001b[0m\u001b[0mcwd\u001b[0m\u001b[0;34m)\u001b[0m\u001b[0;34m\u001b[0m\u001b[0;34m\u001b[0m\u001b[0m\n\u001b[0m\u001b[1;32m     54\u001b[0m \u001b[0;34m\u001b[0m\u001b[0m\n\u001b[1;32m     55\u001b[0m \u001b[0;34m\u001b[0m\u001b[0m\n",
      "\u001b[0;32m~/Work/Software/MiniConda/envs/qiime2-2019.10/lib/python3.6/subprocess.py\u001b[0m in \u001b[0;36mrun\u001b[0;34m(input, timeout, check, *popenargs, **kwargs)\u001b[0m\n\u001b[1;32m    416\u001b[0m         \u001b[0;32mif\u001b[0m \u001b[0mcheck\u001b[0m \u001b[0;32mand\u001b[0m \u001b[0mretcode\u001b[0m\u001b[0;34m:\u001b[0m\u001b[0;34m\u001b[0m\u001b[0;34m\u001b[0m\u001b[0m\n\u001b[1;32m    417\u001b[0m             raise CalledProcessError(retcode, process.args,\n\u001b[0;32m--> 418\u001b[0;31m                                      output=stdout, stderr=stderr)\n\u001b[0m\u001b[1;32m    419\u001b[0m     \u001b[0;32mreturn\u001b[0m \u001b[0mCompletedProcess\u001b[0m\u001b[0;34m(\u001b[0m\u001b[0mprocess\u001b[0m\u001b[0;34m.\u001b[0m\u001b[0margs\u001b[0m\u001b[0;34m,\u001b[0m \u001b[0mretcode\u001b[0m\u001b[0;34m,\u001b[0m \u001b[0mstdout\u001b[0m\u001b[0;34m,\u001b[0m \u001b[0mstderr\u001b[0m\u001b[0;34m)\u001b[0m\u001b[0;34m\u001b[0m\u001b[0;34m\u001b[0m\u001b[0m\n\u001b[1;32m    420\u001b[0m \u001b[0;34m\u001b[0m\u001b[0m\n",
      "\u001b[0;31mCalledProcessError\u001b[0m: Command '['run-sepp.sh', '/tmp/qiime2-archive-xt3jfhej/77eb9040-5f64-4c9f-b1b2-80256f2e0ce6/data/dna-sequences.fasta', 'q2-fragment-insertion', '-x', '5', '-A', '1000', '-P', '5000', '-a', '/tmp/qiime2-archive-kaeauv0f/a14c6180-506b-4ecb-bacb-9cb30bc3044b/data/aligned-dna-sequences.fasta', '-t', '/tmp/qiime2-archive-kaeauv0f/a14c6180-506b-4ecb-bacb-9cb30bc3044b/data/tree.nwk', '-r', '/tmp/qiime2-archive-kaeauv0f/a14c6180-506b-4ecb-bacb-9cb30bc3044b/data/raxml-info.txt']' returned non-zero exit status 1."
     ]
    }
   ],
   "source": [
    "insertion_tree, insertion_placements = fragment_insertion.methods.sepp(representative_sequences =\n",
    "                                                                        denoised_sequences.representative_sequences,\n",
    "                                                                        reference_database = ref_database,\n",
    "                                                                        threads = 5)"
   ]
  },
  {
   "cell_type": "code",
   "execution_count": 52,
   "metadata": {},
   "outputs": [
    {
     "name": "stdout",
     "output_type": "stream",
     "text": [
      "--2020-02-23 17:42:34--  https://data.qiime2.org/2019.10/tutorials/training-feature-classifiers/85_otu_taxonomy.txt\n",
      "Translacja data.qiime2.org (data.qiime2.org)... 52.35.38.247\n",
      "Łączenie się z data.qiime2.org (data.qiime2.org)|52.35.38.247|:443... połączono.\n",
      "Żądanie HTTP wysłano, oczekiwanie na odpowiedź... 302 FOUND\n",
      "Lokalizacja: https://s3-us-west-2.amazonaws.com/qiime2-data/2019.10/tutorials/training-feature-classifiers/85_otu_taxonomy.txt [podążanie]\n",
      "--2020-02-23 17:42:35--  https://s3-us-west-2.amazonaws.com/qiime2-data/2019.10/tutorials/training-feature-classifiers/85_otu_taxonomy.txt\n",
      "Translacja s3-us-west-2.amazonaws.com (s3-us-west-2.amazonaws.com)... 52.218.220.64\n",
      "Łączenie się z s3-us-west-2.amazonaws.com (s3-us-west-2.amazonaws.com)|52.218.220.64|:443... połączono.\n",
      "Żądanie HTTP wysłano, oczekiwanie na odpowiedź... 200 OK\n",
      "Długość: 452277 (442K) [text/plain]\n",
      "Zapis do: `85_otu_taxonomy.txt'\n",
      "\n",
      "85_otu_taxonomy.txt 100%[===================>] 441,68K   582KB/s     w 0,8s    \n",
      "\n",
      "2020-02-23 17:42:36 (582 KB/s) - zapisano `85_otu_taxonomy.txt' [452277/452277]\n",
      "\n"
     ]
    }
   ],
   "source": [
    "!wget -O \"85_otu_taxonomy.txt\" \"https://data.qiime2.org/2019.10/tutorials/training-feature-classifiers/85_otu_taxonomy.txt\""
   ]
  },
  {
   "cell_type": "code",
   "execution_count": 46,
   "metadata": {},
   "outputs": [],
   "source": [
    "ref_taxonomy = qiime2.Artifact.import_data(\"FeatureData[Taxonomy]\", '85_otu_taxonomy.txt', 'HeaderlessTSVTaxonomyFormat')"
   ]
  },
  {
   "cell_type": "code",
   "execution_count": 47,
   "metadata": {},
   "outputs": [
    {
     "ename": "NameError",
     "evalue": "name 'insertion_tree' is not defined",
     "output_type": "error",
     "traceback": [
      "\u001b[0;31m---------------------------------------------------------------------------\u001b[0m",
      "\u001b[0;31mNameError\u001b[0m                                 Traceback (most recent call last)",
      "\u001b[0;32m<ipython-input-47-7eb2d0c4a643>\u001b[0m in \u001b[0;36m<module>\u001b[0;34m\u001b[0m\n\u001b[1;32m      1\u001b[0m taxonomy2 = fragment_insertion.methods.classify_otus_experimental(representative_sequences = denoised_sequences.representative_sequences,\n\u001b[0;32m----> 2\u001b[0;31m                                             \u001b[0mtree\u001b[0m \u001b[0;34m=\u001b[0m \u001b[0minsertion_tree\u001b[0m\u001b[0;34m,\u001b[0m\u001b[0;34m\u001b[0m\u001b[0;34m\u001b[0m\u001b[0m\n\u001b[0m\u001b[1;32m      3\u001b[0m                                             reference_taxonomy = ref_taxonomy)\n",
      "\u001b[0;31mNameError\u001b[0m: name 'insertion_tree' is not defined"
     ]
    }
   ],
   "source": [
    "taxonomy2 = fragment_insertion.methods.classify_otus_experimental(representative_sequences = denoised_sequences.representative_sequences,\n",
    "                                            tree = insertion_tree,\n",
    "                                            reference_taxonomy = ref_taxonomy)"
   ]
  },
  {
   "cell_type": "markdown",
   "metadata": {},
   "source": [
    "### Analiza różnicowa\n",
    "\n",
    "Najpierw odfiltruję próbki uczestników, którzy nie używali antybiotyków (do zmiennej gut_denoise_no_antibiotic"
   ]
  },
  {
   "cell_type": "code",
   "execution_count": 177,
   "metadata": {},
   "outputs": [],
   "source": [
    "gut_denoise_no_antibiotic = feature_table.methods.filter_samples(gut_denoise.filtered_table,\n",
    "                                                                 metadata = sample_metadata,\n",
    "                                                                 where = \"[reported-antibiotic-usage]='No'\")"
   ]
  },
  {
   "cell_type": "markdown",
   "metadata": {},
   "source": [
    "Kolejne kroki, jak w tutorialu \"Moving pictures\""
   ]
  },
  {
   "cell_type": "code",
   "execution_count": 165,
   "metadata": {},
   "outputs": [],
   "source": [
    "gut_denoise_no_antibiotic_composition = composition.actions.add_pseudocount(gut_denoise_no_antibiotic.filtered_table)"
   ]
  },
  {
   "cell_type": "code",
   "execution_count": 167,
   "metadata": {},
   "outputs": [],
   "source": [
    "ancom_gut_denoise_no_antibiotic = composition.actions.ancom(table = gut_denoise_no_antibiotic_composition.composition_table,\n",
    "                                             metadata = sample_metadata.get_column('subject'))"
   ]
  },
  {
   "cell_type": "code",
   "execution_count": 168,
   "metadata": {},
   "outputs": [
    {
     "data": {
      "text/html": [
       "<div><img onload=\"(function(div, url){\n",
       "if (typeof require !== 'undefined') {\n",
       "    var baseURL = require.toUrl('').split('/').slice(0, -2).join('/');\n",
       "} else {\n",
       "    var baseURL = JSON.parse(\n",
       "        document.getElementById('jupyter-config-data').innerHTML\n",
       "    ).baseUrl.slice(0, -1);\n",
       "}\n",
       "url = baseURL + url;\n",
       "fetch(url).then(function(res) {\n",
       "    if (res.status === 404) {\n",
       "        div.innerHTML = 'Install QIIME 2 Jupyter extension with:<br />' +\n",
       "                        '<code>jupyter serverextension enable --py qiime2' +\n",
       "                        ' --sys-prefix</code><br />then restart your server.' +\n",
       "                        '<br /><br />(Interactive output not available on ' +\n",
       "                        'static notebook viewer services like nbviewer.)';\n",
       "    } else if (res.status === 409) {\n",
       "        div.innerHTML = 'Visualization no longer in scope. Re-run this cell' +\n",
       "                        ' to see the visualization.';\n",
       "    } else if (res.ok) {\n",
       "        url = res.url;\n",
       "        div.innerHTML = '<iframe src=\\'' + url + '\\' style=\\'' +\n",
       "                        'width: 100%; height: 700px; border: 0;\\'>' +\n",
       "                        '</iframe><hr />Open in a: <a href=\\'' + url + '\\'' +\n",
       "                        ' target=\\'_blank\\'>new window</a>'\n",
       "    } else {\n",
       "        div.innerHTML = 'Something has gone wrong. Check notebook server for' +\n",
       "                        ' errors.';\n",
       "    }\n",
       "});\n",
       "})(this.parentElement, '/qiime2/redirect?location=/tmp/qiime2-archive-uv4fr1ku')\" src=\"data:image/gif;base64,R0lGODlhAQABAIAAAP///wAAACH5BAEAAAAALAAAAAABAAEAAAICRAEAOw==\" /></div>"
      ],
      "text/plain": [
       "<visualization: Visualization uuid: b10a81e3-7bbe-4b3b-bc18-9a1936e31f90>"
      ]
     },
     "execution_count": 168,
     "metadata": {},
     "output_type": "execute_result"
    }
   ],
   "source": [
    "ancom_gut_denoise_no_antibiotic.visualization"
   ]
  },
  {
   "cell_type": "code",
   "execution_count": 169,
   "metadata": {},
   "outputs": [],
   "source": [
    "gut_no_antibiotic_table_l6 = taxa.methods.collapse(table = gut_denoise_no_antibiotic.filtered_table,\n",
    "                                                   taxonomy = taxonomy.classification,\n",
    "                                                   level = 6)"
   ]
  },
  {
   "cell_type": "code",
   "execution_count": 172,
   "metadata": {},
   "outputs": [],
   "source": [
    "gut_no_antibiotic_table_l6_composition = composition.actions.add_pseudocount(gut_no_antibiotic_table_l6.collapsed_table)"
   ]
  },
  {
   "cell_type": "code",
   "execution_count": 174,
   "metadata": {},
   "outputs": [],
   "source": [
    "ancom_gut_no_antibiotic_table_l6 = composition.actions.ancom(table = gut_no_antibiotic_table_l6_composition.composition_table,\n",
    "                                                             metadata = sample_metadata.get_column('subject'))"
   ]
  },
  {
   "cell_type": "code",
   "execution_count": 175,
   "metadata": {},
   "outputs": [
    {
     "data": {
      "text/html": [
       "<div><img onload=\"(function(div, url){\n",
       "if (typeof require !== 'undefined') {\n",
       "    var baseURL = require.toUrl('').split('/').slice(0, -2).join('/');\n",
       "} else {\n",
       "    var baseURL = JSON.parse(\n",
       "        document.getElementById('jupyter-config-data').innerHTML\n",
       "    ).baseUrl.slice(0, -1);\n",
       "}\n",
       "url = baseURL + url;\n",
       "fetch(url).then(function(res) {\n",
       "    if (res.status === 404) {\n",
       "        div.innerHTML = 'Install QIIME 2 Jupyter extension with:<br />' +\n",
       "                        '<code>jupyter serverextension enable --py qiime2' +\n",
       "                        ' --sys-prefix</code><br />then restart your server.' +\n",
       "                        '<br /><br />(Interactive output not available on ' +\n",
       "                        'static notebook viewer services like nbviewer.)';\n",
       "    } else if (res.status === 409) {\n",
       "        div.innerHTML = 'Visualization no longer in scope. Re-run this cell' +\n",
       "                        ' to see the visualization.';\n",
       "    } else if (res.ok) {\n",
       "        url = res.url;\n",
       "        div.innerHTML = '<iframe src=\\'' + url + '\\' style=\\'' +\n",
       "                        'width: 100%; height: 700px; border: 0;\\'>' +\n",
       "                        '</iframe><hr />Open in a: <a href=\\'' + url + '\\'' +\n",
       "                        ' target=\\'_blank\\'>new window</a>'\n",
       "    } else {\n",
       "        div.innerHTML = 'Something has gone wrong. Check notebook server for' +\n",
       "                        ' errors.';\n",
       "    }\n",
       "});\n",
       "})(this.parentElement, '/qiime2/redirect?location=/tmp/qiime2-archive-46ocj4ol')\" src=\"data:image/gif;base64,R0lGODlhAQABAIAAAP///wAAACH5BAEAAAAALAAAAAABAAEAAAICRAEAOw==\" /></div>"
      ],
      "text/plain": [
       "<visualization: Visualization uuid: 799672be-5a41-4f50-a1c2-4e7d27098cb7>"
      ]
     },
     "execution_count": 175,
     "metadata": {},
     "output_type": "execute_result"
    }
   ],
   "source": [
    "ancom_gut_no_antibiotic_table_l6.visualization"
   ]
  },
  {
   "cell_type": "markdown",
   "metadata": {},
   "source": [
    "W porównaiu ze wcześniejszą analizą różnicową, teraz po odrzuceniu próbek uczestników po zarzyciu antybiotyków, widać, że dla jelit, występuje tylko Parabacteroides. Występuje ona poza tym tylko u badanego No. 2."
   ]
  }
 ],
 "metadata": {
  "kernelspec": {
   "display_name": "Python 3",
   "language": "python",
   "name": "python3"
  },
  "language_info": {
   "codemirror_mode": {
    "name": "ipython",
    "version": 3
   },
   "file_extension": ".py",
   "mimetype": "text/x-python",
   "name": "python",
   "nbconvert_exporter": "python",
   "pygments_lexer": "ipython3",
   "version": "3.6.7"
  }
 },
 "nbformat": 4,
 "nbformat_minor": 4
}
