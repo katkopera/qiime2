{
 "cells": [
  {
   "cell_type": "markdown",
   "metadata": {},
   "source": [
    "# METAGENOMIKA- raport"
   ]
  },
  {
   "cell_type": "markdown",
   "metadata": {},
   "source": [
    "## Daria Kalińska-Łysiak"
   ]
  },
  {
   "cell_type": "markdown",
   "metadata": {},
   "source": [
    "> Question 1: Why is 16S rRNA marker gene sequencing so often used to study the microbiome? What other marker genes are commonly used to identify Bacteria and Archaea? What marker genes do we use to identify other microbial kingdoms (e.g. Fungi and microbial Eukaryotes)?\n"
   ]
  },
  {
   "cell_type": "markdown",
   "metadata": {},
   "source": [
    "Geny markerowe dla 16s rRNA są używane w badaniach mikrobiomu, ponieważ:\n",
    "\n",
    "- występuje we wszystkich znanych bakteriach i archeonach,\n",
    "\n",
    "- 16s rRNA pełni w tych organizmach równoważne funkcje (niezbędne do przeprowadzenia procesu translacji),\n",
    "\n",
    "- występuje w wielu kopiach co zwiększa czułość oznaczeń\n",
    "\n",
    "- zawiera zarówno sekwencje w wysokim stopniu konserwowane, jak i sekwencje zmienne- co zwiększa specyficzność oznaczeń, jak również pozwala na wykorzystanie uniwersalnych primerów,\n",
    "\n",
    "- charakteryzuje się tempem zmienności proporcjonalnym do mierzonych dystansów (odległości) ewolucyjnych (tzn. nie podlega drastycznym i szybkim zmianom mutacyjnym).\n",
    "\n",
    "Inne geny markerowe używane w badaniach filogenetycznych (w zależności\n",
    "od potrzeb, np. gdy analiza 16S rDNA jest niewystarczająca) do identyfikacji Bakterii I Archeonów to np. geny:\n",
    "\n",
    "- recA, kodujący białko naprawcze DNA (RecA),\n",
    "\n",
    "- rpoB, kodujący podjednostkę β bakteryjnej polimerazy DNA,\n",
    "\n",
    "- gyrB, kodujący podjednostkę β gyrazy DNA,\n",
    "\n",
    "- mcrA, kodujący podjednostkę α reduktazy metylokoenzymu M, który jest kluczowy w procesie metanogenezy przeprowadzanym przezarcheony\n",
    "\n",
    "(Ich analizy są przeprowadzane według takiego samego schematu jak w przypadku 16S rDNA)\n",
    "\n",
    "Geby markerowe służące do identyfikacji innych Królestw, to np. geny dla:\n",
    "\n",
    "- dla Grzybów - geny rybosomalnego RNA - 18S, 5,8S i 28S, wewnętrzne sekwencje \n",
    "transkrybowane  - internal transcribed spacer region (ITS1, ITS2) \n",
    "\n",
    "- 18S i CO1 u  eukariotów. "
   ]
  },
  {
   "cell_type": "markdown",
   "metadata": {},
   "source": [
    "> Question 2: What is demultiplexing and why do we need to demultiplex? "
   ]
  },
  {
   "cell_type": "markdown",
   "metadata": {},
   "source": [
    "Demultiplexing to usuwanie sekwencji bar-code charakteryzującą daną próbkę oraz sekwencji primerowych,\n",
    "które zostały dodane podczas procesu sekwencjonowania, które nie będą potrzebne w dalszej analizie.\n",
    "Polega na rozdzieleniu plików typu fastq na pliki zawierające sekwencje i odczyty zawierające bar-code. \n",
    "Po demultipleksowaniu otrzymane w ten sposób sekwencje (dopasowywane do amplifikowanego genu rRNA 16S) \n",
    "są mapowane i dopasowywane do genomu referencyjnego. "
   ]
  },
  {
   "cell_type": "markdown",
   "metadata": {},
   "source": [
    "> Question 3: Look at generated filtering stats after demultiplexing. Pay attention to columns names. What is the meaning of `reads-too-short-after-truncation` and `reads-exceeding-maximum-ambiguous-bases` columns in the context of filtering"
   ]
  },
  {
   "cell_type": "markdown",
   "metadata": {},
   "source": [
    "-reads-too-short-after-truncation -zbyt krótkie odczyty (odrzucone na podstawie wskaźników jakości)\n",
    "\n",
    "-reads-exceeding-maximum-ambiguous-bases - liczba odczytów, w których maksymalna dopuszalna liczba niezidentyfikowanych zasad w danym odczycie (oznaczonych jako N) została przekroczona"
   ]
  },
  {
   "cell_type": "markdown",
   "metadata": {},
   "source": [
    "> Question 4: Look at statistics visulization after appling denoising using Deblur. How do you understand `reads-missed-reference`, `reads-hit-artifact`, `reads-derep`, `reads-chimeric` in context of methodology (sequancing errors, using reference data bases)?"
   ]
  },
  {
   "cell_type": "markdown",
   "metadata": {},
   "source": [
    "\n",
    "„Artifact” i „reference\" odnoszą się odpowiednio do filtrów ujemnych i dodatnich stosowanych podczas filtrowania sekwencji algorytmem Deblur. Baza danych z filtrowaniem negatywnym składa się zasadniczo z sekwencji adapterów i genomu bakteriofaga PhiX. Filtr dodatni składa się z docelowego typu amplikonu.\n",
    "\n",
    "-reads-missed-reference -liczba odczytów, które błędnie nie zostały zaliczone do poprawnie przyrównanych do bazy referencyjnej (ocenia się to po usunięciu cech będących poniżej progu dla minimalnej liczby odczytów)\n",
    "\n",
    "-reads-hit-artifact -\n",
    "liczba odczytów, które zostały zaliczone do bazy danych negatywnych filtrów Deblur (do znanych sekwencji możliwych artefaktów), czyli pasujące np. do sekwencji przyrównanych do bakteriofaga PhiX lub adaptery z pokryciem i z podobieństwiem >=95% \n",
    "\n",
    "-reads-derep -\n",
    "całkowita liczba odczytów pozostałych po dereplikacji( czyli po rozpoznaniu i wyeliminowaniu znanych już wcześniej sekwencji) i przefiltrowaniu na podstawie parametru -- p-min-size (domyślnie singletony nie zostaną tutaj uwzględnione; singleton =\n",
    "nukleotyd (allel),który występuje w próbie tylko raz; mutacje występujące tylko w jednej sekwencji)\n",
    "\n",
    "-reads-chimeric \n",
    "liczba odczytów ocenionych jako chimeryczne po zastosowaniu Deblur"
   ]
  },
  {
   "cell_type": "markdown",
   "metadata": {},
   "source": [
    "> Question 5: View the above mentioned QIIME 2 artifact containing table, and in particular the Interactive Sample Detail tab in that visualization. What value would you choose to pass for sampling_depth? How many samples will be excluded from your analysis based on this choice? How many total sequences will you be analyzing in the core_metrics_phylogenetic pipeline?"
   ]
  },
  {
   "cell_type": "markdown",
   "metadata": {},
   "source": [
    "Wartość sampling_depth ustawiłam na poziomie 1103.\n",
    "\n",
    "Liczba próbek wykluczonych z dalszej analizy: 4.\n",
    "Analiza core_metrics_phylogenetic została przeprowadzona na pozostałych 33 sekwencjach (co stanowi 22,93% z całkowitej liczby 622 wszystkich cech = sekwencji) w pozostałych  30 (88.24%) próbkach."
   ]
  },
  {
   "cell_type": "markdown",
   "metadata": {},
   "source": [
    "> Question 6: Which categorical sample metadata columns are most strongly associated with the differences in microbial community richness? Are these differences statistically significant?"
   ]
  },
  {
   "cell_type": "markdown",
   "metadata": {},
   "source": [
    "Richness (faith_pd_group_significance)- różnorodność filogenetyczna Faitha. Dane kategoryczne, najsilniej związane z bogactwem róznorodności mikrobiologicznej to części ciała (body_site). Różnice te są istotne statystycznie."
   ]
  },
  {
   "cell_type": "markdown",
   "metadata": {},
   "source": [
    "> Question 7: Which categorical sample metadata columns are most strongly associated with the differences in microbial community evenness? Are these differences statistically significant?"
   ]
  },
  {
   "cell_type": "markdown",
   "metadata": {},
   "source": [
    "Eveness(eveness_group_significance) - równomierność (odnosi się do podobieństwa częstości różnych jednostek tworzących populację (lub próbkę). Parametr komplementarny do richness, oznaczającego liczbą różnych jednostek w stosunku do wielkości populacji (lub próby)).\n",
    "\n",
    "Dane kategoryczne, najsilniej związane z równomiernością róznorodności mikrobiologicznej to części ciała (body_site). Różnice te nie są istotne statystycznie."
   ]
  },
  {
   "cell_type": "markdown",
   "metadata": {},
   "source": [
    "> Question 8: Are the associations between subjects and differences in microbial composition statistically significant? How about body sites? What specific pairs of body sites are significantly different from each other?"
   ]
  },
  {
   "cell_type": "markdown",
   "metadata": {},
   "source": [
    "Nie było istotniści statystycznej w różnicach \" w składzie\" mikrobiomu pomiędzy pacjentami. Różnice pomiędzy różnymi częsciami ciała były istotne statystycznie pomiędzy jelitem a lewą dłonią, jelitem a prawą dłonią, lewą dłonią a językiem oraz prawą dłonią a językiem."
   ]
  },
  {
   "cell_type": "markdown",
   "metadata": {},
   "source": [
    "> Question 9: What differences do you observe between the unweighted UniFrac and Bray-Curtis PCoA plots?"
   ]
  },
  {
   "cell_type": "markdown",
   "metadata": {},
   "source": [
    "Odległość Braya-Curtisa służy do ilościowej oceny różnic w składzie między dwoma różnymi miejscami, w oparciu o zliczenia w każdej lokalizacji. Unifrac bierze pod uwagę nie tylko obfitość, ale także filogenetyczne zależności OTUs.\n",
    "\n",
    "Różnice, które mogę zaobserwować pomiędzy obiema wizualizacjami:\n",
    "Wizualizacja Unweighted UniFrac: oś 1 wyjaśniająca: 41,64% wariancji, oś 2: 23,59%.\n",
    "Wizualizacja odległości Braya-Curtisa: oś 1: wyjaśnia 23,35% wariancji, oś 2: 22,28%."
   ]
  },
  {
   "cell_type": "markdown",
   "metadata": {},
   "source": [
    "> Question 10: When grouping samples by “body-site” and viewing the alpha rarefaction plot for the “observed_otus” metric, which body sites (if any) appear to exhibit sufficient diversity coverage (i.e., their rarefaction curves level off)? How many sequence variants appear to be present in those body sites? "
   ]
  },
  {
   "cell_type": "markdown",
   "metadata": {},
   "source": [
    "Jeżeli linie na wykresie wydają się zbliżać się do nachylenia zerowego, na pewnej głębokości próbkowania wzdłuż osi x, oznacza to, że gromadzenie dodatkowych sekwencji poza tą głębokością próbkowania prawdopodobnie nie spowoduje obserwacji dodatkowych sekwencji/cech. Tą częścią ciała jest jelito, z liczbą wariantów sekwencji ok. 70-80, przy tej ustalonej głębokości sekwencjonowania."
   ]
  },
  {
   "cell_type": "markdown",
   "metadata": {},
   "source": [
    "> Question 11: When grouping samples by “body-site” and viewing the alpha rarefaction plot for the “observed_otus” metric, the line for the “right palm” samples appears to level out at about 40, but then jumps to about 140. What do you think is happening here? (Hint: be sure to look at both the top and bottom plots.) "
   ]
  },
  {
   "cell_type": "markdown",
   "metadata": {},
   "source": [
    "Jeśli linie na wykresie nie zbliżają się do nachylenia zerowego, na pewnej głębokości próbkowania wzdłuż osi x, to może to być spowodowane tym, że bogactwo (richness) próbek nie zostało jeszcze w pełni zaobserwowane (ponieważ zebrano zbyt mało sekwencji), lub może to wskazywać na liczne błędy sekwencjonowania w danych (mylonych z nowym składem mikrobiomu)."
   ]
  },
  {
   "cell_type": "markdown",
   "metadata": {},
   "source": [
    "> Question 12: Visualize the samples at Level 2 (which corresponds to the phylum level in this analysis), and then sort the samples by `body-site`, then by `subject`, and then by `days-since-experiment-start`. What are the dominant phyla in each in `body-site`? Do you observe any consistent change across the two subjects between `days-since-experiment-start` `0` and the later timepoints? "
   ]
  },
  {
   "cell_type": "markdown",
   "metadata": {},
   "source": [
    "Gromada, która wydaje się być dominująca:\n",
    "    - wśród próbek posegregowanych ze względu na część ciała, w każdej części ciała:\n",
    "    Firmicutes.\n",
    "    \n",
    "Zmiany, które można zaobserwować u obu pacjentów podczas trwania badania, to:\n",
    "\n",
    "    -zmniejszanie się populacji Verrucomicrobia\n",
    "    \n",
    "    -pojawianie się populacji Cyanobacteria\n"
   ]
  },
  {
   "cell_type": "markdown",
   "metadata": {},
   "source": [
    "> Question 13: Which sequence variants differ in abundance across Subject? In which subject is each sequence variant more abundant? What are the taxonomies of some of these sequence variants? (To answer the last question you’ll need to refer to another visualization that was generated in this tutorial.) We’re also often interested in performing a differential abundance test at a specific taxonomic level. To do this, we can collapse the features in our FeatureTable[Frequency] at the taxonomic level of interest, and then re-run the above steps. In this tutorial, we collapse our feature table at the genus level (i.e. level 6 of the Greengenes taxonomy)."
   ]
  },
  {
   "cell_type": "markdown",
   "metadata": {},
   "source": [
    "Warianty sekwencji różniące się pod względem obfitości pomiędzy pacjentami  to:4b5eeb300368260019c1fbc7a3c718fc i 868528ca947bc57b69ffdf83e6b73bae.\n",
    "\n",
    "U pacjenta nr 1 bardziej obficie występuje wariant 4b5eeb300368260019c1fbc7a3c718fc,\n",
    "natomiast u pacjenta nr 2 - wariant 868528ca947bc57b69ffdf83e6b73bae. \n",
    "\n",
    "Taksononomia tych wariantów:\n",
    "k__Bacteria; p__Bacteroidetes; c__Bacteroidia; o__Bacteroidales; f__Bacteroidaceae; g__Bacteroides; s__"
   ]
  },
  {
   "cell_type": "markdown",
   "metadata": {},
   "source": [
    ">Question 14: Which genera differ in abundance across subject? In which subject is each genus more abundant?"
   ]
  },
  {
   "cell_type": "markdown",
   "metadata": {},
   "source": [
    "Parabacteroides występuje częściej u pacjenta nr 2, a Paraprevotella u pacjenta nr 1."
   ]
  },
  {
   "cell_type": "code",
   "execution_count": null,
   "metadata": {},
   "outputs": [],
   "source": []
  }
 ],
 "metadata": {
  "kernelspec": {
   "display_name": "Python 3",
   "language": "python",
   "name": "python3"
  },
  "language_info": {
   "codemirror_mode": {
    "name": "ipython",
    "version": 3
   },
   "file_extension": ".py",
   "mimetype": "text/x-python",
   "name": "python",
   "nbconvert_exporter": "python",
   "pygments_lexer": "ipython3",
   "version": "3.6.7"
  }
 },
 "nbformat": 4,
 "nbformat_minor": 2
}
